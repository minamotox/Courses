{
 "cells": [
  {
   "cell_type": "code",
   "execution_count": null,
   "id": "28012f8a-1bd1-4b98-8499-1fc2471831e3",
   "metadata": {},
   "outputs": [],
   "source": [
    "import numpy as np\n",
    "import pandas as pd\n",
    "import tensorflow as tf\n",
    "from sklearn.datasets import load_iris\n",
    "import matplotlib.pyplot as plt\n",
    "import seaborn as sns"
   ]
  },
  {
   "cell_type": "code",
   "execution_count": null,
   "id": "15ee44f3-66b1-4f04-89c1-43599bf28859",
   "metadata": {},
   "outputs": [],
   "source": [
    "#Stat\n",
    "grades=pd.Series(range(80,100,2))\n",
    "print(grades.shape, grades.ndim)\n",
    "print(grades)\n",
    "print()\n",
    "print(len(grades))\n",
    "print(grades.describe())\n",
    "print()\n",
    "print(grades.mean(), grades.std(), grades.min() ) "
   ]
  },
  {
   "cell_type": "code",
   "execution_count": null,
   "id": "ab00a222-b9fc-49d4-9e57-1abb909a391b",
   "metadata": {},
   "outputs": [],
   "source": [
    "#Series\n",
    "height=pd.Series([165, 175, 190], index=['tirbouchon', 'Mino', 'Mejri'])\n",
    "print(height)\n",
    "print(height.Mino, height['Mino'], height[1])"
   ]
  },
  {
   "cell_type": "code",
   "execution_count": null,
   "id": "4fe8f131-6599-4f97-9fe2-ef4e1f9e15bc",
   "metadata": {},
   "outputs": [],
   "source": [
    "#Dataframe\n",
    "scores=np.array([[87,100,90,82,95],[90, 85, 97, 100,88], [95,95,80,86,100]])\n",
    "print(type(scores), scores.shape)\n",
    "print(scores)\n",
    "print()\n",
    "scores_df=pd.DataFrame(scores)\n",
    "print(scores_df.shape)\n",
    "print(scores_df)\n",
    "print()\n",
    "scores_df=pd.DataFrame(scores, columns=['Django', 'Ringo', 'Mino', 'Sosso', 'Gunslinger'],\\\n",
    "                      index=['Math', 'Eco', 'Physics'])\n",
    "print(scores_df)\n",
    "print()\n",
    "scores_df.columns=['Django', 'Mino', 'Yukimura', 'Sosso', 'RuyjinSama']\n",
    "scores_df.index=['IT' , 'ML', 'Python']\n",
    "print(scores_df)\n",
    "print()\n",
    "print(scores_df.describe()) #it applies to columns#\n",
    "print(scores_df.mean())\n",
    "print(scores_df.T)\n",
    "#scores_df.T.describe()"
   ]
  },
  {
   "cell_type": "code",
   "execution_count": null,
   "id": "c1ee422d-f679-4706-8522-ae01ee75cc7f",
   "metadata": {},
   "outputs": [],
   "source": [
    "#DataFrame slicing\n",
    "Temp=np.array([[18, 29, 20,14],[20, 32, 18,13],[19, 36, 26,10],[22, 32, 25,16]])\n",
    "Temp_tb=pd.DataFrame(Temp, columns=['Spring', 'Summer', 'Fall', 'Winter'])\n",
    "print(Temp)\n",
    "print(Temp_tb)\n",
    "print()\n",
    "#Temp_tb[['Spring','Fall']]\n",
    "#Temp_tb.loc[:,['Spring','Fall']]\n",
    "#Temp_tb.Spring\n",
    "#Temp_tb.iloc[0:1,0:2]\n",
    "Temp_tb.iloc[0:2,[0,2]]\n",
    "Temp_tb.iloc[2]={'Spring':24, 'Summer':40, 'Fall':28, 'Winter':8}\n",
    "Temp_tb\n",
    "Temp_tb.loc[[0,1],\"Spring\":\"Fall\"]\n",
    "print(Temp_tb.at[1, 'Winter'],Temp_tb.iat[0,3])"
   ]
  },
  {
   "cell_type": "code",
   "execution_count": null,
   "id": "2e525686-6b4c-408a-bb0d-a861207053ec",
   "metadata": {},
   "outputs": [],
   "source": [
    "#Sorting\n",
    "Temp_tb.sort_index(axis=1)\n",
    "Temp_tb.sort_values(by=2, axis=1, ascending=True)\n",
    "Temp_tb.T.sort_values(by=2)\n",
    "Temp_tb[(Temp_tb<=20) & (Temp_tb>=10) ]\n",
    "Temp_tb[lambda x: x>=20 ]"
   ]
  },
  {
   "cell_type": "code",
   "execution_count": null,
   "id": "8f7c584c-6205-431d-a668-fac94bcfca76",
   "metadata": {},
   "outputs": [],
   "source": [
    "#DataFrame & sklearn\n",
    "iris_data=load_iris()\n",
    "iris_data.keys()\n",
    "iris_data.DESCR\n",
    "iris_feature, iris_target=iris_data['data'],iris_data['target']\n",
    "print(type(iris_feature), iris_feature.shape,type(iris_target), iris_target.shape)\n",
    "print()\n",
    "#iris_full=np.hstack([iris_feature,iris_target.reshape(150,1)])\n",
    "#iris_full.shape\n",
    "#iris_full[:5, ]\n",
    "iris_feature_df=pd.DataFrame(iris_feature, columns=iris_data['feature_names'])\n",
    "#iris_feature_df.head()\n",
    "#iris_feature_df.shape\n",
    "iris_feature_df.rename(columns={'sepal length (cm)':'S Length' ,'sepal width (cm)':'S Width' ,\n",
    "                                'petal length (cm)':'P Length','petal width (cm)':'P Width' }, inplace=True)\n",
    "#iris_feature_df.head()\n",
    "#iris_feature_df.tail()\n",
    "print()\n",
    "iris_target_df=pd.DataFrame(iris_target, columns=['target'])\n",
    "iris_target_df.loc[iris_target_df['target']==0, 'label']='Setosa'\n",
    "iris_target_df.loc[iris_target_df['target']==1, 'label']='Versicolor'\n",
    "iris_target_df.loc[iris_target_df['target']==2, 'label']='Virginica'\n",
    "iris_target_df.head()"
   ]
  },
  {
   "cell_type": "code",
   "execution_count": null,
   "id": "b6c1a687-630b-45d6-bb20-fda47a3d881d",
   "metadata": {},
   "outputs": [],
   "source": [
    "#concatenate\n",
    "iris_full_df=pd.concat([iris_feature_df, iris_target_df],axis=1)\n",
    "iris_full_df.shape\n",
    "iris_full_df.tail()\n",
    "#subsetting\n",
    "#versicolor_df=iris_full_df[iris_full_df.label=='Versicolor']#.reset_index(drop=true)\n",
    "#versicolor_df.head()\n"
   ]
  },
  {
   "cell_type": "code",
   "execution_count": null,
   "id": "3e4a4322-cae1-4c7d-9dd8-86fa2bf82410",
   "metadata": {},
   "outputs": [],
   "source": [
    "versicolor_df['genera']= versicolor_df['target']+'_'+versicolor_df['label'].values.astype(str)\n",
    "versicolor_df.head()\n",
    "#versicolor_full_df=versicolor_df.drop(columns=['target','label'])\n",
    "#versicolor_full_df.head()"
   ]
  },
  {
   "cell_type": "code",
   "execution_count": null,
   "id": "6f3cb436-d21c-48d5-961d-0864b13cf012",
   "metadata": {},
   "outputs": [],
   "source": [
    "#Descriptive Statistics\n",
    "iris_full_df.iloc[:, :]\n",
    "iris_full_df.drop(['target'], axis=1)#.describe()\n",
    "#iris_full_df[['S Length']].describe()\n",
    "#iris_full_df.groupby(['label']).describe()#.T\n",
    "#iris_full_df.iloc[:, [0,1,2,3,4,5]].groupby(['label']).describe()\n",
    "iris_full_df.drop(['target'], axis=1).cov()#.corr()\n",
    "#iris_ovh=pd.get_dummies(iris_full_df['label'])\n",
    "#iris_ovh"
   ]
  },
  {
   "cell_type": "code",
   "execution_count": null,
   "id": "e20f92b9-84b5-4449-8b2b-13ebc39c9a7e",
   "metadata": {},
   "outputs": [],
   "source": [
    "#combining Dataframes\n",
    "class_df=pd.DataFrame({'lec_id':['F1501','F1502','F1503','F1504','F1505'],\n",
    "'stu_reg':[70,55,60,30,90],\n",
    "'course_n':['MDN101','CN306','MOD104','MOD105','MOD206'],\n",
    "'CAG':[3,2.98,3.3,3.4,2.7]})\n",
    "crs_eval=pd.DataFrame({'lec_id':['F1501','F1502','F1503','F1504','F1505'],\n",
    "'stu_reg':[60,70,90,40,14],\n",
    "'course_n':['MDN101','CN306','MOD104','MOD104','MOD206'],\n",
    "'CES':[4,3.9,4.4,4.7,4.2]})\n",
    "class_df\n",
    "#crs_eval\n",
    "#merged_df0=pd.concat([class_df, crs_eval],axis=1)\n",
    "merged_df0=pd.merge(class_df, crs_eval,how='outer',on=['lec_id','course_n'])\n",
    "merged_df0"
   ]
  },
  {
   "cell_type": "code",
   "execution_count": null,
   "id": "dc147175-cbda-44d9-affb-f4a39c4a2262",
   "metadata": {},
   "outputs": [],
   "source": [
    "merged_df1=merged_df0\n",
    "#merged_df1[['lec_id','course_n','stu_reg_x','CES']]\n",
    "#merged_df2=pd.merge(class_df, crs_eval,how='outer',on=['lec_id','course_n'])\n",
    "#merged_df2=pd.merge(class_df, crs_eval,how='inner',on=['lec_id','course_n'])\n",
    "#merged_df2=pd.merge(class_df, crs_eval,how='right',on=['lec_id','course_n'])\n",
    "#merged_df2\n",
    "class_df1=class_df.set_index(['lec_id','course_n'])\n",
    "#class_df1\n",
    "crs_eval1=crs_eval.set_index(['lec_id','course_n'])#[['CES']]\n",
    "#crs_eval1\n",
    "merged_df3=class_df1.join(crs_eval1, how='outer')\n",
    "merged_df3\n",
    "#removing row with specific value\n",
    "merged_df3[merged_df3['CES'].isin([3.9])]\n",
    "#removing row with NaN\n",
    "merged_df3.dropna()"
   ]
  },
  {
   "cell_type": "code",
   "execution_count": null,
   "id": "205d8b7f-4255-47c6-8290-66f5e95a537a",
   "metadata": {},
   "outputs": [],
   "source": [
    "#one hot Vector\n",
    "auto_firms=['Hundai', 'Honda', 'Kia', 'Audi', 'Benz', 'Hundai','Benz','Audi','Hundai',\\\n",
    "           'Kia','Honda','Kia','Audi','Hundai','Benz']\n",
    "year=list(range(1990,2005,1)); rank=list(range(15))\n",
    "auto_df=pd.DataFrame({'Year':year, 'Rank':rank, 'Constructor':auto_firms})\n",
    "auto_df\n",
    "#set(auto_firms)\n",
    "#am_onehot=pd.get_dummies(auto_df['Constructor'])\n",
    "#am_onehot#.sum()\n",
    "#auto_df.join(am_onehot)"
   ]
  },
  {
   "cell_type": "code",
   "execution_count": null,
   "id": "58c862b1-8161-4abf-b43d-ae7bb4bf4112",
   "metadata": {},
   "outputs": [],
   "source": [
    "#String concatenation splitting\n",
    "string1=\"\"\"I have a dream\"\"\"\n",
    "string2='that one day every valley shall be exalted, every hill and mountain shall be made low, the rough places will be made plain'\n",
    "len(string2)\n",
    "string=str(1.65)\n",
    "string1[:5]\n",
    "string2.count('dream')\n",
    "string_l=list(string1)\n",
    "string_M=string1+' '+string2\n",
    "string_M2=':'.join([string1,string2])\n",
    "string_sp=string_M.split(',')\n",
    "#print(string_sp, end='.')\n",
    "string_sp, len(string_sp)"
   ]
  },
  {
   "cell_type": "code",
   "execution_count": null,
   "id": "2e4a2d17-294d-4824-bdb9-4acbc2f8342b",
   "metadata": {},
   "outputs": [],
   "source": [
    "#Slicing in a serie\n",
    "class_df=pd.DataFrame({'lec_id':['F1501','F1502','F1503','F1504','F1505'],\n",
    "'stu_reg':[70,55,60,30,90],\n",
    "'course_n':['MDN101','CNN306','MOD104','MOD105','MOD206'],\n",
    "'CAG':[3,2.98,3.3,3.4,2.7]})\n",
    "class_df\n",
    "#class_df['lec_id'].str.slice(2)\n",
    "class_df['i_course']=class_df['course_n'].str.slice(3)\n",
    "pd.to_numeric(class_df['i_course'])\n",
    "class_df['i_lec']=class_df['lec_id'].str.split('F').str[1]\n",
    "pd.to_numeric(class_df['i_lec'])\n",
    "class_df['i_lec2']=class_df['lec_id'].str.slice(1,4)\n",
    "pd.to_numeric(class_df['i_lec2'])\n",
    "class_df"
   ]
  },
  {
   "cell_type": "code",
   "execution_count": null,
   "id": "80710eee-15a0-4300-9f46-7842e53dccc9",
   "metadata": {},
   "outputs": [],
   "source": [
    "#ASCII\n",
    "#A to Z:65 to 90\n",
    "#a to z: 97 to 122\n",
    "print(ord('A'),chr(65))\n",
    "\n",
    "mush=['x','s','n','t','p'],['x','s','y','t','a'],\\\n",
    "['b','s','w','t','l'],['x','y','w','t','p']\n",
    "mush\n",
    "mush_asc=[ord(j) for i in mush for j in i ]\n",
    "print(mush_asc)\n",
    "mush_asc_array=np.array(mush_asc).reshape(4,5)\n",
    "mush_asc_array\n"
   ]
  },
  {
   "cell_type": "code",
   "execution_count": null,
   "id": "4adcb409-4e3f-4c4d-809f-f0648242a736",
   "metadata": {},
   "outputs": [],
   "source": [
    "# formatted-strings\n",
    "f'A floating number is {3.1419239494 :<10.4f}.'\n",
    "f'center aligned case is {3.1419239494 :^10.4f}.'\n",
    "f'samples of integer and binary numbers {21:2} {21:5b}'\n",
    "f'ASCII code conversion {65:2c} and {98:2c}'\n",
    "f'{\"Python :\":10} {98:10}'\n",
    "Name=['Youngsun', 'Jackadimus', 'Mino']\n",
    "Age=[45, 88, 39]\n",
    "for name, age in zip (Name, Age):\n",
    "    print(f'happy {age}th birdhday dear {name}!!')"
   ]
  },
  {
   "cell_type": "code",
   "execution_count": null,
   "id": "0bc6aa9e-ae8c-40d5-bef0-401ebdcf1715",
   "metadata": {},
   "outputs": [],
   "source": [
    "#Data Files\n",
    "irisdata=pd.read_csv('https://archive.ics.uci.edu/ml/machine-learning-databases/iris/iris.data',header=None)\n",
    "#or0, 1st row not used for column labels\n",
    "irisdata.columns=['SepalL', 'SepalW', 'PetalL', 'PetalW', 'Name']\n",
    "#or names=[]\n",
    "#irisdata.head(10)\n",
    "print(len(irisdata), irisdata.shape)\n",
    "#Saving data\n",
    "#irisdata.to_csv(r\"C:\\Users\\minam\\Dev py\\Coursera\\iris.csv\", index=False)\n",
    "#Reading data  \n",
    "iris=pd.read_csv(r\"C:\\Users\\minam\\Dev py\\Coursera\\iris.csv\")\n",
    "iris.head()"
   ]
  },
  {
   "cell_type": "code",
   "execution_count": null,
   "id": "4941ca13-ad48-4339-8394-b592922fe9a6",
   "metadata": {},
   "outputs": [],
   "source": [
    "#Preparing Canvas\n",
    "iris=pd.read_csv(r\"C:\\Users\\minam\\Dev py\\Coursera\\iris.csv\")\n",
    "#iris.columns=['SepalL', 'SepalW', 'PetalL', 'PetalW', 'Name']\n",
    "iris.head(10)\n",
    "#list(iris.columns[:4])\n",
    "#figsize in inches, default width & height figsize=[6.4,4.8 ]\n",
    "plt.figure(figsize=(10,5))\n",
    "plt.subplot(2,3,1)# adding subbplot (row, column, sequence)\n",
    "plt.subplot(2,3,2)\n",
    "plt.subplot(236)#comas can be omitted\n",
    "plt.tight_layout()#automatic layout\n",
    "plt.show\n",
    "\n",
    "#attaching subplots\n",
    "fig=plt.figure()\n",
    "fig1=fig.add_subplot(211)\n",
    "fig2=fig.add_subplot(212)\n",
    "fig1.plot(range(4))\n",
    "fig2.bar(range(4),range(1,5))\n",
    "plt.tight_layout()\n",
    "plt.show\n",
    "\n",
    "#create common layout for subplots\n",
    "fig, (ax1, ax2)=plt.subplots(2,1,figsize=(6,4))\n",
    "ax1.plot(range(4))\n",
    "ax2.bar(range(4), range(1,5))\n",
    "plt.tight_layout()\n",
    "plt.show\n"
   ]
  },
  {
   "cell_type": "code",
   "execution_count": null,
   "id": "8531b6da-76ce-4435-9449-6923037f2e8b",
   "metadata": {},
   "outputs": [],
   "source": [
    "#Drawing multiple functions sharing same axe x on a canvas\n",
    "x=np.arange(1,9,0.5)\n",
    "plt.plot(x,x,'b',x,x**(3/2), 'r--o', x, np.sqrt(x), 'gs')\n",
    "plt.title('multiple graphs with same x values ')\n",
    "plt.grid\n",
    "plt.show()\n"
   ]
  },
  {
   "cell_type": "code",
   "execution_count": null,
   "id": "13ca51b3-17bd-49ab-9994-2cff72df9d3e",
   "metadata": {},
   "outputs": [],
   "source": [
    "x=np.linspace(0, 2*np.pi,400)\n",
    "y=np.sin(x)\n",
    "plt.figure(figsize=(8,8))\n",
    "plt.plot(x,y,'r')\n",
    "plt.title('Sine Graph',fontsize=15)\n",
    "plt.xlabel('x range', fontsize=12)\n",
    "plt.ylabel('Sine values', fontsize=12)\n",
    "plt.grid()\n",
    "plt.show()\n",
    "#plt.savefig('Sinegraph.png')\n"
   ]
  },
  {
   "cell_type": "code",
   "execution_count": null,
   "id": "f6a3bd7a-bcd2-47ee-b3ac-839877d02f4c",
   "metadata": {},
   "outputs": [],
   "source": [
    "#2bars charts in a canvas with subplots\n",
    "year, number=(['1st Year','2nd Year','3rd Year','4th Year'], [14,11,15,18])\n",
    "plt.figure(figsize=(12,6))\n",
    "plt.subplot(1,2,1)\n",
    "plt.bar(year, number, width=0.35, color='r')\n",
    "plt.title('Vertical Bar Chart')\n",
    "plt.xlabel('Class')\n",
    "plt.ylabel('Students registered')\n",
    "plt.grid()\n",
    "plt.subplot(122)\n",
    "plt.barh(year, number, 0.4, color='g')\n",
    "plt.title('Horizontal Bar Chart')\n",
    "plt.xlabel('Students')\n",
    "plt.grid()\n",
    "plt.show()"
   ]
  },
  {
   "cell_type": "code",
   "execution_count": null,
   "id": "1f8521ce-e14a-458a-9bac-5a38b6890edd",
   "metadata": {},
   "outputs": [],
   "source": [
    "#Juxtaposing 2 different data for comparison on a bar plot\n",
    "name=['Raheem', 'Harry Cain', 'Rashford', 'Walker']\n",
    "tv_watch, sns_use=([40,50,60,70],[70,60,50,40])\n",
    "name_i=np.arange(len(name))\n",
    "width=0.2\n",
    "plt.figure(figsize=(10,4))\n",
    "plt.bar(name_i-width/2,tv_watch,width,color='r', label='TV')\n",
    "plt.bar(name_i+width/2,sns_use,width,color='b', label='SNS')\n",
    "plt.xticks(name_i,name)\n",
    "plt.title('Time spent in Media services')\n",
    "plt.xlabel('Names')\n",
    "plt.ylabel('Minutes/week')\n",
    "plt.legend(loc='center')#'upper left', 'upper right', 'lower left', 'lower right', 'upper center', \n",
    "#'lower center', 'center left', 'center right','best'\n",
    "plt.grid()\n",
    "plt.show()"
   ]
  },
  {
   "cell_type": "code",
   "execution_count": null,
   "id": "665cab29-fbb4-4c8a-908d-d7b97afb2f46",
   "metadata": {},
   "outputs": [],
   "source": [
    "name=['Raheem', 'Harry Cain', 'Rashford', 'Walker']\n",
    "tv_watch, sns_use=([40,50,60,70],[70,60,50,40])\n",
    "name_i=np.arange(len(name))\n",
    "width=0.2\n",
    "fig,ax=plt.subplots(figsize=(10,4))\n",
    "plt.bar(name_i-width/2,tv_watch,width,color='r', label='TV')\n",
    "plt.bar(name_i+width/2,sns_use,width,color='b', label='SNS')\n",
    "ax.set_xticks(name_i)\n",
    "ax.set_xticklabels(name)\n",
    "ax.set_title('Time spent in Media services')\n",
    "ax.set_xlabel('Names')\n",
    "ax.set_ylabel('Minutes/week')\n",
    "ax.legend(loc='upper center')\n",
    "ax.grid()\n",
    "plt.show()"
   ]
  },
  {
   "cell_type": "code",
   "execution_count": null,
   "id": "5313558a-4463-41b9-a8ec-c6a10b210b9b",
   "metadata": {},
   "outputs": [],
   "source": [
    "#Simple histogram\n",
    "x=np.random.normal(0,3,2000)\n",
    "n,bins,patches=plt.hist(x, bins=10, alpha=0.8, color='b', edgecolor='black')\n",
    "plt.setp(patches[0:4],'facecolor', 'r')\n",
    "plt.setp(patches[4],'facecolor', 'y')\n",
    "#plt.xlim(min(bins), max(bins))\n",
    "plt.show()\n",
    "print(f'array of frequency {n}\\narray of edga values{np.round(bins,2)} \\n{patches}')\n"
   ]
  },
  {
   "cell_type": "code",
   "execution_count": null,
   "id": "b1cf524e-deb7-45cd-ac0e-937348d12f76",
   "metadata": {},
   "outputs": [],
   "source": [
    "x=np.random.normal(-7,3,2000)\n",
    "y=np.random.normal(0,3,2000)\n",
    "z=np.random.normal(7,3,2000)\n",
    "bins=np.linspace(-20,20,50)\n",
    "fig,ax=plt.subplots()\n",
    "ax.hist([x,y,z], bins, label=['x','y','z'], color=['b','orange', 'r'])\n",
    "ax.legend(loc='upper right')\n",
    "plt.show()"
   ]
  },
  {
   "attachments": {
    "5726bcd2-4f36-40e4-845a-3476f3e85023.jpg": {
     "image/jpeg": "[encoded data removed]"
    }
   },
   "cell_type": "markdown",
   "id": "854a6a90-d00a-48d2-8267-b58bb97e506c",
   "metadata": {},
   "source": [
    "![normal distribution function.jpg](attachment:5726bcd2-4f36-40e4-845a-3476f3e85023.jpg)"
   ]
  },
  {
   "cell_type": "code",
   "execution_count": null,
   "id": "2f1e6ef7-3e5c-4e40-945a-ed2b198e3fc9",
   "metadata": {
    "tags": []
   },
   "outputs": [],
   "source": [
    "def stnd_func(mu, sigma,x):\n",
    "    return 1/(sigma*np.sqrt(2*np.pi))*np.exp(-(x-mu)**2/(2*sigma**2))\n",
    "mu=100; sigma=10; sample=1000\n",
    "pdf=np.random.normal(mu, sigma,sample)\n",
    "bins=np.linspace(60,140,80)\n",
    "fig, ax =plt.subplots()\n",
    "ax.hist(pdf, bins, color='b',edgecolor='black')\n",
    "ax.plot(bins,stnd_func(mu, sigma,bins)*sample, 'r o')\n",
    "plt.show()"
   ]
  },
  {
   "cell_type": "code",
   "execution_count": null,
   "id": "d43ef91c-712e-4043-abb0-9e41d88b01c3",
   "metadata": {},
   "outputs": [],
   "source": [
    "#histogram with iris data\n",
    "iris=pd.read_csv(r\"C:\\Users\\minam\\Dev py\\Coursera\\iris.csv\")\n",
    "setosa= iris.iloc[0:50,:]\n",
    "versicolor= iris.iloc[50:100,:]\n",
    "virginica=iris.iloc[100:150,:]\n",
    "names= ['setosa', 'versicolor', 'virginica']\n",
    "kinds=[setosa, versicolor, virginica]\n",
    "fig,ax=plt.subplots()\n",
    "ax.hist([setosa.SepalL,versicolor.SepalL, virginica.SepalL],bins=20, \n",
    "        label =names, color=['r', 'yellow', 'g'])\n",
    "ax.set_title('Distribution of sepals by length',fontsize=12)\n",
    "ax.set_xlabel('Sepal Length (cm)',fontsize=8)\n",
    "ax.set_ylabel('Frequency',fontsize=8)\n",
    "ax.legend(fontsize=8, loc='upper right')\n",
    "plt.show()"
   ]
  },
  {
   "cell_type": "code",
   "execution_count": null,
   "id": "2534fbe4-53b4-4a76-8607-1e62b76fcbff",
   "metadata": {},
   "outputs": [],
   "source": [
    "#Scatterplot\n",
    "fig, ax=plt.subplots(figsize=(8,5))\n",
    "mk_size=80\n",
    "ax.scatter(setosa.PetalL,setosa.PetalW, marker='o', s=mk_size, c='r', label='Setosa')\n",
    "ax.scatter(versicolor.PetalL,versicolor.PetalW, marker='+', s=mk_size, c='orange', label='versicolor')\n",
    "ax.scatter(virginica.PetalL,virginica.PetalW, marker='<', s=mk_size, c='g', label='virginica')\n",
    "\n",
    "ax.set_title('Iris Distribution',fontsize=12)\n",
    "ax.set_xlabel('Petal Length (cm)',fontsize=6)\n",
    "ax.set_ylabel('Petal Width (cm)',fontsize=6)\n",
    "ax.legend(loc='upper left',fontsize=8)\n",
    "plt.show()"
   ]
  },
  {
   "cell_type": "code",
   "execution_count": null,
   "id": "3c64b001-7ad1-4ed3-a4ee-c0cdc8d09a25",
   "metadata": {},
   "outputs": [],
   "source": [
    "#Scatterplot using for loop\n",
    "fig, ax=plt.subplots(figsize=(8,5))\n",
    "names= ['setosa', 'versicolor', 'virginica']\n",
    "kinds=[setosa, versicolor, virginica]\n",
    "for name,kind in zip(names, kinds):\n",
    "    ax.plot(kind.PetalL,kind.PetalW, marker='*', ms=10, linestyle=' ', markeredgecolor='black',\n",
    "            label=name)\n",
    "ax.set_title('Iris Distribution by kinds',fontsize=16)\n",
    "ax.set(xlabel='Petal Length (cm)', ylabel='Petal Width (cm)')\n",
    "ax.legend(loc='upper left',fontsize=8)\n",
    "plt.show()"
   ]
  },
  {
   "cell_type": "code",
   "execution_count": null,
   "id": "ca02aa18-79a5-4ed3-9956-292a6a9f6b61",
   "metadata": {},
   "outputs": [],
   "source": [
    "#Boxplot\n",
    "fig, ax=plt.subplots(figsize=(8,5))\n",
    "ax.boxplot(np.array(iris.iloc[:,0:4]), sym='bo', showmeans=True )\n",
    "ax.set_xticklabels(iris.columns[:4])\n",
    "ax.set_ylabel('cm')\n",
    "ax.set_title('Iris data Boxplot')\n",
    "plt.show()\n",
    "#box limits are quartile, orange is mediane, bar is max and min value, triangle is the mean\n"
   ]
  },
  {
   "cell_type": "code",
   "execution_count": null,
   "id": "89b9bea1-5d83-4797-a645-df65f93c4c5d",
   "metadata": {},
   "outputs": [],
   "source": [
    "#Pieplot\n",
    "name=['Raheem', 'Harry Cain', 'Rashford', 'Walker']\n",
    "tv_watch, sns_use=([40,50,60,70],[70,60,50,40])\n",
    "fig, (ax1, ax2)=plt.subplots(1,2, figsize=(8,5))\n",
    "ax1.pie(tv_watch, explode=(0.1,0.2,0,0), labels=name,textprops={'fontsize':12}, autopct='%.2f%%',\n",
    "       shadow=True, startangle=90, colors=['b','r','y', 'grey'])\n",
    "ax2.pie(sns_use, labels=name, autopct='%.1f%%',shadow=True, startangle=180,\n",
    "        wedgeprops={'width':0.6,'edgecolor':'w', 'linewidth':2 })\n",
    "ax1.set_title('TV Watching behaviour', fontsize=(16))\n",
    "ax2.set_title('SNS use behaviour', fontsize=14)\n",
    "ax1.axis('equal')\n",
    "fig.tight_layout()\n",
    "plt.show()"
   ]
  },
  {
   "cell_type": "code",
   "execution_count": null,
   "id": "6aa743b0-cd8f-4646-8305-5f86e816c111",
   "metadata": {},
   "outputs": [],
   "source": [
    "#drawing on Dataframes\n",
    "iris.plot(grid=True)\n",
    "#iris.plot(kind='hist', bins=40, edgecolor='black')\n",
    "#iris.plot(kind='box', sym='b.', showmeans=True )\n",
    "#iris.plot(kind='scatter', x='PetalL', y='PetalW')\n",
    "plt.show()"
   ]
  },
  {
   "cell_type": "code",
   "execution_count": null,
   "id": "34685c3b-9728-4749-ab83-7da8b97dfc11",
   "metadata": {},
   "outputs": [],
   "source": [
    "year, number=(['1st Year','2nd Year','3rd Year','4th Year'], [14,11,15,18])\n",
    "students=pd.Series(number, index=year)\n",
    "#students.sort_index().plot(kind='barh', grid=True, figsize=(8,5))# or sort_values\n",
    "#plt.show()\n",
    "\n",
    "students.plot(kind='pie', explode=(0,0,0,0.3),textprops={'fontsize':16}, autopct='%.2f%%',\n",
    "              shadow=True, startangle=0)\n",
    "plt.ylablel=(None)\n",
    "plt.show()"
   ]
  },
  {
   "cell_type": "code",
   "execution_count": null,
   "id": "6359f6cc-75de-49fd-ae63-cd1a93e04e72",
   "metadata": {},
   "outputs": [],
   "source": [
    "#Seaborn plotting\n",
    "fig,ax=plt.subplots(figsize=(8,5))\n",
    "sns.set_style('whitegrid')  #white, dark, ticks,etc...\n",
    "ax=sns.scatterplot(x='SepalL', y='SepalW', palette='bright', hue='Name', style='Name',\n",
    "                  s=80, data=iris)\n",
    "ax.set_title('Iris Distribution by Sepal', fontsize=14)\n",
    "#ax.set(xlabel='Sepal length(cm)', ylablel='Sepal width(cm)')\n",
    "ax.set_xlabel('Sepal Length (cm)',fontsize=8)\n",
    "ax.set_ylabel('Sepal width (cm)',fontsize=8)\n",
    "ax.legend(loc='upper right', fontsize=12)\n",
    "plt.show()\n"
   ]
  },
  {
   "cell_type": "code",
   "execution_count": null,
   "id": "d62bf623-a66b-4cb2-a64c-6ad932ecbf00",
   "metadata": {},
   "outputs": [],
   "source": [
    "#sns.boxplot(data=iris)\n",
    "#plt.show()\n",
    "#sns.boxplot(data=iris, x='Name', y='SepalW',)\n",
    "#plt.show()\n",
    "#sns.jointplot(x='PetalL', y='PetalW',data=iris, kind='kde') #kde=kernel density estimation\n",
    "#plt.suptitle('Petal length and petal width sublot', y=1.02)\n",
    "#plt.show()\n",
    "#Violinpot: distribution of quantitative data-boxplot with density information\n",
    "sns.violinplot(data=iris)\n",
    "plt.show()\n",
    "#implot: linear regression with 95% confidence interval\n",
    "#sns.lmplot(data=iris, x='PetalL', y='PetalW', palette='bright', height=5, aspect=1.4)#, hue='Name'\n",
    "#plt.show()"
   ]
  },
  {
   "cell_type": "code",
   "execution_count": null,
   "id": "b3fdd397-6361-4dcd-a243-58bc3b93e269",
   "metadata": {},
   "outputs": [],
   "source": [
    "#Class creation MinoCalculator.py\n",
    "class calculation:\n",
    "    def __init__(self, first,second):\n",
    "        \"\"\"initilaise attributes\"\"\"\n",
    "        self.first=first\n",
    "        self.second=second\n",
    "        \n",
    "        if second==0:\n",
    "            raise ValueError(f'number musn\\'t be 0')\n",
    "    def add(self):\n",
    "        return self.first+self.second\n",
    "                             \n",
    "    def mult(self):\n",
    "        \n",
    "        return self.first*self.second\n",
    "    \n",
    "    def subs(self):\n",
    "        \"\"\"substraction\"\"\"\n",
    "        return self.first-self.second\n",
    "    def div(self):\n",
    "        \"\"\"Division\"\"\"\n",
    "        return self.first / self.second\n",
    "#%save Minocalculator.py 1-22 #magic for making a script file with py extension"
   ]
  },
  {
   "cell_type": "code",
   "execution_count": null,
   "id": "9fba1ba5-2028-4d76-80a6-a75be3b829ff",
   "metadata": {},
   "outputs": [],
   "source": [
    "#constructing an object\n",
    "c=calculation(10,3)\n",
    "print(f'first number is {c.first}\\n' + f'second number is {c.second}\\n')\n",
    "print(f'Addition: {c.add()}\\n'+\n",
    "     f'Multiplication: {c.mult()}\\n'+\n",
    "     f'substraction: {c.subs()}\\n'+\n",
    "     f'Division: {c.div():.2f}\\n')"
   ]
  },
  {
   "cell_type": "code",
   "execution_count": null,
   "id": "d3280186-bd19-4f5a-bb2b-aa767d35c97e",
   "metadata": {},
   "outputs": [],
   "source": [
    "#calculation.div(c)\n",
    "import Minocalculator\n",
    "c=calculation(10,3)\n",
    "print(f'Addition: {c.add()}\\n'+\n",
    "     f'Multiplication: {c.mult()}\\n'+\n",
    "     f'substraction: {c.subs()}\\n'+\n",
    "     f'Division: {c.div():.2f}\\n')\n",
    "\n",
    "import Minocalculator as mc\n",
    "d=mc.calculation(10,3)\n",
    "print(f'Addition: {d.add()}\\n'+\n",
    "     f'Multiplication: {d.mult()}\\n'+\n",
    "     f'substraction: {d.subs()}\\n'+\n",
    "     f'Division: {d.div():.2f}\\n')\n",
    "#oblist=[c,d]\n",
    "#for i in oblist:\n",
    "#    print(i.mult(), end=' ,')"
   ]
  },
  {
   "cell_type": "code",
   "execution_count": null,
   "id": "226e2425-b892-4312-917e-7f117045ac74",
   "metadata": {},
   "outputs": [],
   "source": [
    "#Method overriding MinoCalculator2.py\n",
    "\n",
    "class calculation_2(calculation):\n",
    "    \"\"\"adding power \"\"\"\n",
    "    def __init__(self, first,second,third):\n",
    "        \"\"\"initilaise attributes\"\"\"\n",
    "        super().__init__(first,second)\n",
    "        self.third=third\n",
    "                \n",
    "    def pow(self):\n",
    "        return self.first**self.second+self.third\n",
    "                             \n",
    "    def div(self): #method overriding\n",
    "        \"\"\"Division\"\"\"\n",
    "        if self.second==0:\n",
    "            return 0\n",
    "        else:\n",
    "            return self.first / self.second\n",
    "e=calculation_2(9,2,3)\n",
    "print(e.pow(),e.add(),e.subs(), e.mult(),e.div())\n",
    "#calculation_2(9,0,3).div() #result is error"
   ]
  },
  {
   "cell_type": "code",
   "execution_count": null,
   "id": "b94c0564-fcf6-4432-abc5-126bc9e9c9fc",
   "metadata": {},
   "outputs": [],
   "source": [
    "#Class inheritance\n",
    "class person:\n",
    "    def __init__(self, first,last):\n",
    "        self.firstname=first\n",
    "        self.lastname=last\n",
    "    def __repr__(self):\n",
    "        return (self.firstname+' ' +self.lastname)"
   ]
  },
  {
   "cell_type": "code",
   "execution_count": null,
   "id": "12185617-01fc-42e7-bee8-1016edaf384a",
   "metadata": {},
   "outputs": [],
   "source": [
    "x=person('Amine', 'HAMOUDA')\n",
    "repr(x)"
   ]
  },
  {
   "cell_type": "code",
   "execution_count": null,
   "id": "4bbf1cd0-6dbf-47d4-832c-10e47c59449d",
   "metadata": {},
   "outputs": [],
   "source": [
    "class Employee(person):\n",
    "    def __init__(self, first,last,staffN):\n",
    "        super().__init__(first,last)\n",
    "        self.staffnumber=staffN\n",
    "    def __repr__(self):\n",
    "        return (f'Staff name: {super().__repr__()},\\n'+ f'Staff number: {self.staffnumber}\\n')"
   ]
  },
  {
   "cell_type": "code",
   "execution_count": null,
   "id": "25ff1214-5377-4595-aca4-51a931398c9e",
   "metadata": {},
   "outputs": [],
   "source": [
    "y=Employee('Amine','HAMOUDA','0666669')\n",
    "y"
   ]
  }
 ],
 "metadata": {
  "kernelspec": {
   "display_name": "Python 3 (ipykernel)",
   "language": "python",
   "name": "python3"
  },
  "language_info": {
   "codemirror_mode": {
    "name": "ipython",
    "version": 3
   },
   "file_extension": ".py",
   "mimetype": "text/x-python",
   "name": "python",
   "nbconvert_exporter": "python",
   "pygments_lexer": "ipython3",
   "version": "3.9.13"
  }
 },
 "nbformat": 4,
 "nbformat_minor": 5
}
