{
 "cells": [
  {
   "cell_type": "code",
   "execution_count": 1,
   "id": "f69f059a-df16-447d-8c9d-72a3761f5b6c",
   "metadata": {},
   "outputs": [],
   "source": [
    "import numpy as np\n",
    "import pandas as pd\n",
    "import sklearn\n",
    "import seaborn as sns\n",
    "import matplotlib.pyplot as plt\n",
    "%matplotlib inline\n"
   ]
  },
  {
   "cell_type": "code",
   "execution_count": null,
   "id": "96a8d75a-4920-410f-82ce-b875f25172ef",
   "metadata": {
    "tags": []
   },
   "outputs": [],
   "source": [
    "Boston=pd.read_csv('housing.data',delim_whitespace=True, header=None)\n",
    "Boston\n"
   ]
  },
  {
   "cell_type": "markdown",
   "id": "503c3db8-88dd-47a8-b157-77e22fb826e7",
   "metadata": {
    "tags": []
   },
   "source": [
    "<table style=\"width:60%\">\n",
    "<tr>\n",
    "<th> Code :   </th>\n",
    "<th> Description : </th>\n",
    "</tr>\n",
    "\n",
    "<tr>\n",
    "<th> CRIM </th> \n",
    "<th> per capita crime rate per town  </th>\n",
    "</tr>\n",
    "<tr>\n",
    "<th> ZN </th>\n",
    "<th> proportion of residential land zones for lots over 25000 sgr ft ></th>\n",
    "</tr>\n",
    "<tr>\n",
    "<th> INDUS </th>\n",
    "<th> proportion of non retail business acr per town </th>\n",
    "</tr>\n",
    "<tr>\n",
    "<th> CHAS</th>\n",
    "<th> Charles River dummy variable (=1 if tract bounds river) </th>\n",
    "</tr>\n",
    "<tr>\n",
    "<th> NOX </th>\n",
    "<th> NO concentration (pp 10 million) </th>\n",
    "</tr>\n",
    "<tr>\n",
    "<th> RM </th>\n",
    "<th> Average N rooms  </th>\n",
    "</tr>\n",
    "<tr>\n",
    "<th>  AGE  </th>\n",
    "<th> proportion of owner occupied builts prior 1940 </th>\n",
    "</tr>\n",
    "<tr>\n",
    "<th>  DIS  </th>\n",
    "<th> weighted distances to 5 Boston employment centers </th>\n",
    "</tr>\n",
    "\n",
    "<tr>\n",
    "<th>  RAD  </th>\n",
    "<th> index of accessibility to radial highways </th>\n",
    "</tr>\n",
    "    \n",
    "<tr>\n",
    "<th>  TAX  </th>\n",
    "<th> full value property tax rate per 10 000 $ </th>\n",
    "</tr>\n",
    "    \n",
    "<tr>\n",
    "<th>  PTRATIO </th>\n",
    "<th> pupil teacher ratio by town </th>\n",
    "</tr>\n",
    "    \n",
    "<tr>\n",
    "<th> B </th>\n",
    "<th> 1000(BK-0.63)² ; bk proportion of blacks by town </th>\n",
    "</tr>\n",
    "    \n",
    "<tr>\n",
    "<th> LSTAT </th>\n",
    "<th> % lower status of the population </th>\n",
    "</tr>\n",
    "    \n",
    "<tr>\n",
    "<th>  MEDV  </th>\n",
    "<th> median value of owner occupied homes in 1000 $ </th>\n",
    "</tr>\n",
    "</table>\n"
   ]
  },
  {
   "cell_type": "code",
   "execution_count": null,
   "id": "29831956-d40e-47a9-9065-8313c387f877",
   "metadata": {},
   "outputs": [],
   "source": [
    "Boston.columns=['CRIM','ZN','INDUS','CHAS','NOX','RM','AGE','DIS','RAD','TAX',\n",
    "                'PTRATIO','B','LSTAT','MEDV']\n",
    "#Boston.to_csv('Boston.csv')\n",
    "Boston.describe()\n"
   ]
  },
  {
   "cell_type": "markdown",
   "id": "ab6b0bd3-6d27-4256-9082-e3d3ee7838de",
   "metadata": {},
   "source": [
    "# Exploratory data Analysis (EDA) #"
   ]
  },
  {
   "cell_type": "code",
   "execution_count": null,
   "id": "0ed8cf5f-873c-4cf3-8ac0-d8a165b77792",
   "metadata": {
    "tags": []
   },
   "outputs": [],
   "source": [
    "sns.pairplot(Boston, height=1.5)\n",
    "plt.show()\n"
   ]
  },
  {
   "cell_type": "code",
   "execution_count": null,
   "id": "604a02af-bd87-4704-9798-3b3d91d3fdae",
   "metadata": {},
   "outputs": [],
   "source": [
    "Features=['CRIM','ZN','INDUS','NOX','RM']\n",
    "sns.pairplot(Boston[Features], height=2.5)\n",
    "plt.show()\n"
   ]
  },
  {
   "cell_type": "code",
   "execution_count": null,
   "id": "c044e487-caaa-4f7d-945a-4a230cb51777",
   "metadata": {},
   "outputs": [],
   "source": [
    "Features2=['AGE','TAX','PTRATIO','B','LSTAT','MEDV']\n",
    "sns.pairplot(Boston[Features2], height=2.5)\n",
    "plt.show()\n"
   ]
  },
  {
   "cell_type": "markdown",
   "id": "a0647e50-cbb4-4c16-8d7c-24e0069f653a",
   "metadata": {},
   "source": [
    "# Correlation & Features selection #"
   ]
  },
  {
   "cell_type": "code",
   "execution_count": null,
   "id": "d1af57ec-065d-4909-854f-9f16d42f4897",
   "metadata": {},
   "outputs": [],
   "source": [
    "pd.options.display.float_format='{:,.3f}'.format\n",
    "Boston.corr()\n"
   ]
  },
  {
   "cell_type": "code",
   "execution_count": null,
   "id": "7c8037da-a400-4312-8ac9-71a2334e1af6",
   "metadata": {},
   "outputs": [],
   "source": [
    "plt.figure(figsize=(16,10))\n",
    "sns.heatmap(Boston.corr(), annot=True)\n",
    "plt.show()\n"
   ]
  },
  {
   "cell_type": "code",
   "execution_count": null,
   "id": "4d64f13e-2dcd-426f-9a6c-fba2d378ecd4",
   "metadata": {},
   "outputs": [],
   "source": [
    "\n",
    "plt.figure(figsize=(12,10))\n",
    "sns.heatmap(Boston[['CRIM','ZN','INDUS','CHAS','MEDV']].corr(), annot=True)\n",
    "plt.show()\n"
   ]
  },
  {
   "cell_type": "markdown",
   "id": "85b07f55-7b1e-42f9-adb4-b8f2ced365ae",
   "metadata": {},
   "source": [
    "# Linear regression with Scikit-Learn #"
   ]
  },
  {
   "cell_type": "markdown",
   "id": "e7aa4019-8c3b-4228-9f55-ef3c4ccc0f95",
   "metadata": {},
   "source": [
    "## Five steps of in using Scikit-earn estimator API by Jacob T. Vanderplas: ##\n",
    "<ol>\n",
    "<li> Choose class model by importing the appropriate estimator class from Scikit-earn </li>\n",
    "<li> Choose model hyperparameters by instanciating this class with desired values\n",
    "<li> Arrange data into a features matrix and target vector\n",
    "<li> Fit the model to ur data by calling the fit() method of the model instance\n",
    "<li> Apply the model to the new data:\n",
    "<ul>\n",
    "<li> for supervised learning: often we predict labels for unknown data using predict() method\n",
    "<li> for unsupervised learning: often we transform or infer properties of the data using the transform() or predict() method\n",
    "</ul>\n",
    "</ol>"
   ]
  },
  {
   "cell_type": "markdown",
   "id": "31e2cd88-87ab-40d7-87fb-44b34e92f58b",
   "metadata": {},
   "source": [
    "### MEDV vs RM Linear regression ###"
   ]
  },
  {
   "cell_type": "code",
   "execution_count": null,
   "id": "566208fc-dc41-4ec9-9e5b-4a095544e7e8",
   "metadata": {},
   "outputs": [],
   "source": [
    "from sklearn.linear_model import LinearRegression\n",
    "X=Boston['RM'].values.reshape(-1,1)\n",
    "Y=Boston['MEDV'].values\n"
   ]
  },
  {
   "cell_type": "code",
   "execution_count": null,
   "id": "a74699da-0572-46d9-b171-67089b0c2372",
   "metadata": {},
   "outputs": [],
   "source": [
    "model=LinearRegression()\n",
    "model.fit(X,Y)\n",
    "print(f'linear model coeficient={model.coef_} and B={model.intercept_}')\n"
   ]
  },
  {
   "cell_type": "code",
   "execution_count": null,
   "id": "3d3f0299-cfaf-44ae-821d-030d045c1ad0",
   "metadata": {},
   "outputs": [],
   "source": [
    "plt.figure(figsize=(10,6))\n",
    "sns.regplot(x=X,y=Y,color='orange')\n",
    "plt.xlabel('Average N of rooms')\n",
    "plt.ylabel('owner occupied houses mediane value 1000$')\n",
    "plt.show()\n"
   ]
  },
  {
   "cell_type": "code",
   "execution_count": null,
   "id": "bace6087-fe84-44ef-a9e9-0fa6ca5d6631",
   "metadata": {},
   "outputs": [],
   "source": [
    "sns.jointplot(x='RM', y='MEDV', data=Boston, kind='reg',height=10,color='orange')\n",
    "plt.grid()\n",
    "plt.show()\n"
   ]
  },
  {
   "cell_type": "code",
   "execution_count": null,
   "id": "15d6fc2e-d0bf-4418-adf2-8f4841654de4",
   "metadata": {},
   "outputs": [],
   "source": [
    "\n",
    "model.predict(np.array([5]).reshape(1,-1))\n"
   ]
  },
  {
   "cell_type": "markdown",
   "id": "ec8dcbdf-0a4e-420a-b05f-5f072ec39d3f",
   "metadata": {},
   "source": [
    "### LSTAT vs MEDV Linear regression ###"
   ]
  },
  {
   "cell_type": "code",
   "execution_count": null,
   "id": "e491c603-415b-420f-82b3-edb9a3d8d30c",
   "metadata": {},
   "outputs": [],
   "source": [
    "\n",
    "X2=Boston['LSTAT'].values.reshape(-1,1)\n",
    "Y2=Boston['MEDV'].values\n",
    "model2=LinearRegression()\n",
    "model2.fit(X2,Y2)\n",
    "print(f'linear, a={model2.coef_} and b={model2.intercept_}')\n"
   ]
  },
  {
   "cell_type": "code",
   "execution_count": null,
   "id": "168321fb-54b3-4445-934d-3ef79bc28beb",
   "metadata": {},
   "outputs": [],
   "source": [
    "plt.figure(figsize=(10,6))\n",
    "sns.regplot(x=X2,y=Y2,color='DeepSkyBlue');\n",
    "plt.xlabel('Median value of owner occupied homes in 1000 $')\n",
    "plt.ylabel('% lower status of the population')\n",
    "plt.grid()\n",
    "plt.show();\n"
   ]
  },
  {
   "cell_type": "code",
   "execution_count": null,
   "id": "55977980-40b5-49da-90ff-1b07f55d6190",
   "metadata": {},
   "outputs": [],
   "source": [
    "#optional\n",
    "sns.jointplot(x='LSTAT', y='MEDV', data=Boston, kind='reg',height=10,color='lime')\n",
    "plt.grid()\n",
    "plt.show()\n"
   ]
  },
  {
   "cell_type": "code",
   "execution_count": null,
   "id": "f4c29740-923b-4459-8dce-15f5b29a7d9c",
   "metadata": {},
   "outputs": [],
   "source": [
    "model2.predict(np.array([15]).reshape(1,-1))\n"
   ]
  },
  {
   "cell_type": "markdown",
   "id": "8ee42e92-41c6-4036-b926-a42f4bbd5831",
   "metadata": {},
   "source": [
    "# Robust Regression #"
   ]
  },
  {
   "cell_type": "markdown",
   "id": "ce3fd359-3138-40f8-9dff-d1ce1aefb8b8",
   "metadata": {},
   "source": [
    "## Random Sample Consensus (RANSAC) ##\n",
    "<ol>\n",
    "<li> select <strong> min_samples </strong>random samples from original data and check whether the dataset is valid <strong>(is_data_valid)</strong> </li>\n",
    "<li> fit a model to a random subset <strong>(base_estimator.fit)</strong> and check whether the estimated model is valid <strong> (is_model_valid)</strong> </li>\n",
    "<li> Classify all data as inliers or ouliers by calculating the residuals to the estimated model <strong>(base_estimator.predict(x)-y)</strong> all data samples\n",
    "with absolute residuals smaller than the <strong>residual_threshold </strong>are considered as inliers </li>\n",
    "<li> save fitted model as best model if number of outliers samples is maximal, in case the current estimated model has the same number of inliers,\n",
    "    it is considered as the best model if it has better score</li>\n",
    "</ol>"
   ]
  },
  {
   "cell_type": "code",
   "execution_count": null,
   "id": "dec65a32-9d00-4cca-bb5d-c246c99ce1d4",
   "metadata": {},
   "outputs": [],
   "source": [
    "from sklearn import linear_model\n",
    "from sklearn import datasets\n",
    "#RM vs MEDV\n",
    "#X=Boston['RM'].values.reshape(-1,1)\n",
    "#Y=Boston['MEDV'].values\n",
    "coef=True\n",
    "# Robustly fit linear model with RANSAC algorithm\n",
    "ransac = linear_model.RANSACRegressor()\n",
    "ransac.fit(X,Y)\n",
    "inlier_mask = ransac.inlier_mask_\n",
    "outlier_mask = np.logical_not(inlier_mask)\n",
    "\n",
    "# Compare estimated coefficients\n",
    "print(f'Estimated coefficients (coef:{coef} , linear regression: {model.coef_},RANSAC= {ransac.estimator_.coef_}x+{ransac.estimator_.intercept_})')\n"
   ]
  },
  {
   "cell_type": "code",
   "execution_count": null,
   "id": "98d2a484-fd62-4793-8fb9-af9c282062f6",
   "metadata": {},
   "outputs": [],
   "source": [
    "#predictions and plotting\n",
    "line_x=np.arange(3,10,1)\n",
    "line_y_ransac=ransac.predict(line_x.reshape(-1,1))\n",
    "line_y=model.predict(line_x.reshape(-1,1))\n",
    "\n",
    "sns.set(style='darkgrid', context='notebook')\n",
    "plt.figure(figsize=(12,8))\n",
    "plt.scatter(X[inlier_mask], Y[inlier_mask], c='blue', marker='o', label='Inliers')\n",
    "plt.scatter(X[outlier_mask], Y[outlier_mask], c='violet', marker='s', label='Outliers')\n",
    "plt.plot(line_x, line_y, color='grey',linewidth=2, label=\"Linear regressor\")\n",
    "plt.plot(line_x,line_y_ransac,color=\"red\", linewidth=2,label=\"RANSAC regressor\")\n",
    "plt.xlabel('Average N rooms')\n",
    "plt.ylabel('median value of owner occupied homes in 1000 $ ')\n",
    "plt.legend(loc='lower right')\n",
    "plt.show()\n"
   ]
  },
  {
   "cell_type": "markdown",
   "id": "7f13b4df-ccd3-4f80-856a-c64d943c5872",
   "metadata": {},
   "source": [
    "**linear regression Assumptions:** https://www.statisticssolutions.com/free-resources/directory-of-statistical-analyses/assumptions-of-linear-regression/"
   ]
  },
  {
   "cell_type": "markdown",
   "id": "2889f14b-e164-4bdb-9620-10514469b9ed",
   "metadata": {},
   "source": [
    "# Evaluate Regression Model Performance #"
   ]
  },
  {
   "cell_type": "code",
   "execution_count": null,
   "id": "2bcfea6e-2001-4357-80ed-4935611ff9e8",
   "metadata": {},
   "outputs": [],
   "source": [
    "from sklearn.linear_model import LinearRegression\n",
    "from sklearn.model_selection import train_test_split\n",
    "X=Boston.iloc[:, :-1].values\n",
    "Y=Boston['MEDV'].values\n",
    "\n",
    "x_train, x_test,y_train, y_test=train_test_split(X, Y, test_size=0.2, random_state=0)\n",
    "lr=LinearRegression()\n",
    "lr.fit(x_train,y_train)\n",
    "y_train_pred=lr.predict(x_train)\n",
    "y_test_pred=lr.predict(x_test)\n"
   ]
  },
  {
   "cell_type": "markdown",
   "id": "c4b42596-7f9b-48c0-86a6-0ec6971f1db3",
   "metadata": {
    "tags": []
   },
   "source": [
    "### Method1: Residual Analysis ###"
   ]
  },
  {
   "cell_type": "code",
   "execution_count": null,
   "id": "cb40fa90-984b-4d49-bdc5-e59568c0d8da",
   "metadata": {},
   "outputs": [],
   "source": [
    "plt.figure(figsize=(12,8))\n",
    "plt.scatter(y_train_pred, y_train_pred-y_train, c='blue', marker='s', label='Training')\n",
    "plt.scatter(y_test_pred,y_test_pred-y_test, c='orange', marker='o', label='Test')\n",
    "plt.xlabel('Predicted values')\n",
    "plt.ylabel('Residuals ')\n",
    "plt.legend(loc='upper right')\n",
    "plt.hlines(y=0, xmin=-10, xmax=50, lw=2, color='k')\n",
    "plt.xlim([-10,50])\n",
    "plt.show()\n"
   ]
  },
  {
   "cell_type": "markdown",
   "id": "d7bd0362-667a-4ede-aed0-82dc69b065e1",
   "metadata": {},
   "source": [
    "### Method2: Mean Squarred Error (MSE) ###\n",
    "<ul>\n",
    "<li>The average value of the sums of the squarred error cost function </li>\n",
    "<li>Useful for comparing different regression models </li>\n",
    "<li>For tuning parameters via a grid search and cross-validation </li>\n",
    "</ul>\n",
    "\n",
    "## $$MSE={{1}\\over{n }}{\\sum_{i=1}^n{(yi-ŷi)²}}$$ ##"
   ]
  },
  {
   "cell_type": "code",
   "execution_count": null,
   "id": "61066b3d-c5e9-49ca-9e39-77da3cae0523",
   "metadata": {},
   "outputs": [],
   "source": [
    "from sklearn.metrics import mean_squared_error\n",
    "\n",
    "mean_squared_error(y_train,y_train_pred)\n",
    "mean_squared_error(y_test,y_test_pred)\n"
   ]
  },
  {
   "cell_type": "markdown",
   "id": "a7e5ecdf-8a20-4847-8ded-6de7c6fcb6c0",
   "metadata": {},
   "source": [
    "### Method3: Coefficient of determination R² ###\n",
    "### $$ R²=1-{SSE \\over SST}$$ ###\n",
    "<ul>\n",
    "<li>SSE: Sum of squarred errors </li>\n",
    "<li>SST: Total sum of squares </li>\n",
    "\n",
    "</ul>\n"
   ]
  },
  {
   "cell_type": "code",
   "execution_count": null,
   "id": "ca2133c8-716a-49f9-bf1b-4bbe67079112",
   "metadata": {},
   "outputs": [],
   "source": [
    "from sklearn.metrics import r2_score\n",
    "\n",
    "r2_score(y_train,y_train_pred)\n",
    "r2_score(y_test,y_test_pred)\n"
   ]
  },
  {
   "cell_type": "markdown",
   "id": "ffa7ea84-3ec7-438c-9053-edf6e670bb00",
   "metadata": {},
   "source": [
    "# The perfect model #"
   ]
  },
  {
   "cell_type": "code",
   "execution_count": null,
   "id": "38b71ffc-ffe5-4a0f-89b1-18bebe3594da",
   "metadata": {},
   "outputs": [],
   "source": [
    "from sklearn.linear_model import LinearRegression\n",
    "from sklearn.model_selection import train_test_split\n",
    "\n",
    "generate_random=np.random.RandomState(0)\n",
    "x=10*generate_random.rand(1000)\n",
    "y=3*x+np.random.randn(1000)\n",
    "plt.figure(figsize=(10,8))\n",
    "plt.scatter(x,y, marker='^', c='indigo')\n",
    "plt.show()\n"
   ]
  },
  {
   "cell_type": "code",
   "execution_count": null,
   "id": "ed6f9cad-8a19-4cfa-87a4-04df9e353d62",
   "metadata": {},
   "outputs": [],
   "source": [
    "x_train, x_test,y_train, y_test=train_test_split(x,y, test_size=0.3, random_state=0)\n",
    "model=LinearRegression()\n",
    "model.fit(x_train.reshape(-1,1),y_train)\n",
    "y_train_pred=model.predict(x_train.reshape(-1,1))\n",
    "y_test_pred=model.predict(x_test.reshape(-1,1))\n"
   ]
  },
  {
   "cell_type": "code",
   "execution_count": null,
   "id": "0718bb02-92be-4049-b88c-e912f198309f",
   "metadata": {},
   "outputs": [],
   "source": [
    "#Residual Analysis\n",
    "\n",
    "plt.figure(figsize=(12,8))\n",
    "plt.scatter(y_train_pred, y_train_pred-y_train, c='blue', marker='s', label='Training')\n",
    "plt.scatter(y_test_pred,y_test_pred-y_test, c='orange', marker='o', label='Test')\n",
    "plt.xlabel('Predicted values')\n",
    "plt.ylabel('Residuals ')\n",
    "plt.legend(loc='upper right')\n",
    "plt.hlines(y=0, xmin=3, xmax=33, lw=2, color='r')\n",
    "plt.xlim([-5,35])\n",
    "plt.ylim([-25,15])\n",
    "plt.show()\n"
   ]
  },
  {
   "cell_type": "code",
   "execution_count": null,
   "id": "fc14a5b4-033d-49fb-be61-65589ad6b208",
   "metadata": {},
   "outputs": [],
   "source": [
    "#MSE\n",
    "\n",
    "from sklearn.metrics import mean_squared_error\n",
    "\n",
    "mean_squared_error(y_train,y_train_pred)\n",
    "mean_squared_error(y_test,y_test_pred)\n",
    "print(f'MSE train:{mean_squared_error(y_train,y_train_pred)} , MSE Test:{mean_squared_error(y_test,y_test_pred)}')\n"
   ]
  },
  {
   "cell_type": "code",
   "execution_count": null,
   "id": "e57ee497-5fcd-493d-b7c5-161eb49fc1e3",
   "metadata": {},
   "outputs": [],
   "source": [
    "#R²\n",
    "from sklearn.metrics import r2_score\n",
    "\n",
    "r2_score(y_train,y_train_pred)\n",
    "r2_score(y_test,y_test_pred)\n",
    "print(f'R² train:{mean_squared_error(y_train,y_train_pred)} , R² Test:{mean_squared_error(y_test,y_test_pred)}')\n"
   ]
  },
  {
   "cell_type": "markdown",
   "id": "239cac56-3810-474f-bfb8-f222701495bd",
   "metadata": {},
   "source": [
    "# Multiple Regression #"
   ]
  },
  {
   "cell_type": "markdown",
   "id": "c295c83b-373c-428a-9be5-554aad3d0c43",
   "metadata": {},
   "source": [
    "## y=$\\beta$0+$\\beta1$*x1+$\\beta2$*x2... ##\n",
    " "
   ]
  },
  {
   "cell_type": "code",
   "execution_count": null,
   "id": "7e3c4012-6106-4402-8d35-32c772133bc2",
   "metadata": {},
   "outputs": [],
   "source": [
    "\n",
    "Housing=pd.read_csv('housing.data',delim_whitespace=True, header=None)\n",
    "Housing.columns=['CRIM','ZN','INDUS','CHAS','NOX','RM','AGE','DIS','RAD','TAX',\n",
    "                'PTRATIO','B','LSTAT','MEDV']\n",
    "Boston=Housing.iloc[:,0:13]\n",
    "\n",
    "X=Boston\n",
    "Y=Housing.iloc[:,13:15]\n",
    "print(f'x= \\n {X} and y=\\n {Y}')\n"
   ]
  },
  {
   "cell_type": "markdown",
   "id": "bf2ecb1b-8ff9-454e-96ec-e6c1e94aeb6a",
   "metadata": {},
   "source": [
    "# Statsmodels #"
   ]
  },
  {
   "cell_type": "code",
   "execution_count": null,
   "id": "95072027-dd11-4b94-8ec7-b39f95907153",
   "metadata": {},
   "outputs": [],
   "source": [
    "import statsmodels.api as sm\n",
    "\n",
    "X_constant=sm.add_constant(X)\n",
    "pd.DataFrame(X_constant)\n",
    "#sm.OLS?\n",
    "model=sm.OLS(Y,X_constant)\n",
    "lr=model.fit()\n",
    "lr.summary()\n",
    "#P must be <0.025\n"
   ]
  },
  {
   "cell_type": "markdown",
   "id": "d9e2d685-13c9-4652-94a2-f72de44f4817",
   "metadata": {},
   "source": [
    "## Summary: ##\n",
    "<ul>\n",
    "<li> <b>coefficient:</b> it is the value of the intercept. For each variable, it is the measurement of how change in that variable affects the independent variable. It is the ‘m’ in ‘y = mx + b’ One unit of change in the dependent variable will affect the variable’s coefficient’s worth of change in the independent variable. </li>\n",
    "<li><b>std error:</b> is an estimate of the standard deviation of the coefficient, a measurement of the amount of variation in the coefficient throughout its data points. A low std error compared to a high coefficient produces a high t statistic, which signifies a high significance for your coefficient.</li>\n",
    "<li><b>P>|t|</b> is one of the most important statistics in the summary. It uses the t statistic to produce the p-value, a measurement of how likely your coefficient is measured through our model by chance. The p-value of 0.378 for Wealth is saying there is a 37.8% chance the Wealth variable has no affect on the dependent variable, Lottery, and our results are produced by chance. A common alpha is 0.05, which few of our variables pass in this instance.</li>\n",
    "<li><b>[0.025 and 0.975]</b> are both measurements of values of our coefficients within 95% of our data, or within two standard deviations. Outside of these values can generally be considered outliers.</li> </ul>\n",
    "The p-value is the smallest test size that would cause an observation of t=0.1 to lead to a rejection of the null hypothesis\n",
    "\n",
    "### Residual Tests: ###\n",
    "<ul>\n",
    "<li><b>Omnibus:</b> a combined statistic test for skewness and kurtosis</li>\n",
    "<li><b>prob(Omnibus):</b> P-value of Omnibus test</li>\n",
    "<li><b>Skewness:</b> a measure of symmetry of residuals around the mean.Zero if symmetrical. A positive value indicates a long tail to the right, a negative value indicates a long tail to the left</li>\n",
    "<li><b>Kurtosis:</b> A measure of the shape of distribution of the residuals, A normal distribution has 0 measure.A negative value points to a flatter than normal distribution, a positive one has a higher peak than normal distribution</li>\n",
    "<li><b>Durbin-Watson:</b> A test for presence of correlation among the residuals, this is important for time series modelling</li>\n",
    "<li><b>Jarque-Bera:</b> it is a combined statistical test of Skewness and Kurtosis</li>\n",
    "<li><b>Prob(JB): </b>p_value of Jarque-Bera</li>\n",
    "<li><b>Cond.No: </b>it is a test for multicolinearity. > 30 indicates unstable results.</li>\n",
    "    \n",
    "</ul>\n"
   ]
  },
  {
   "cell_type": "code",
   "execution_count": null,
   "id": "e652a236-c896-4eac-80b0-678449d4067b",
   "metadata": {},
   "outputs": [],
   "source": [
    "import statsmodels.formula.api as smf\n",
    "\n",
    "form_lr=smf.ols(formula='Y ~ CRIM+ZN+INDUS+CHAS+NOX+RM+AGE+DIS+RAD+TAX+PTRATIO+B+LSTAT',data=Housing)\n",
    "mlr=form_lr.fit()\n",
    "mlr.summary()\n"
   ]
  },
  {
   "cell_type": "code",
   "execution_count": null,
   "id": "7dce5ee3-0939-4614-b8fa-2ad2f08aafe2",
   "metadata": {},
   "outputs": [],
   "source": [
    "#predicting 100 rows in basis of CRIM and Black\n",
    "model_ex=smf.ols(formula='Y ~ CRIM+B',data=Housing) #CRIM+ZN+CHAS+\n",
    "mlr_ex=model_ex.fit()\n",
    "mlr_ex.summary()\n",
    "#predictions = mlr_ex.predict(Housing[0:100])\n",
    "#predictions.describe()\n"
   ]
  },
  {
   "cell_type": "markdown",
   "id": "1ce83266-9490-4822-8fa7-b0f7407ee1b5",
   "metadata": {},
   "source": [
    "# Correlation Matrix #"
   ]
  },
  {
   "cell_type": "code",
   "execution_count": 2,
   "id": "b6ac1229-dd2c-48cb-8cce-fcba1ebbcd96",
   "metadata": {},
   "outputs": [],
   "source": [
    "\n",
    "Housing=pd.read_csv('housing.data',delim_whitespace=True, header=None)\n",
    "Housing.columns=['CRIM','ZN','INDUS','CHAS','NOX','RM','AGE','DIS','RAD','TAX',\n",
    "                'PTRATIO','B','LSTAT','MEDV']\n",
    "Boston=Housing.iloc[:,0:13]\n",
    "X=Boston\n",
    "Y=Housing.iloc[:,13:15]\n"
   ]
  },
  {
   "cell_type": "code",
   "execution_count": null,
   "id": "73fc0cfc-0329-4e70-b709-4ee69847aa1b",
   "metadata": {},
   "outputs": [],
   "source": [
    "pd.options.display.float_format='{:,.2f}'.format\n",
    "corr_matrix=Boston.corr()\n",
    "corr_matrix\n"
   ]
  },
  {
   "cell_type": "code",
   "execution_count": null,
   "id": "0e651ef9-c0f6-4738-845b-6aceff6704aa",
   "metadata": {},
   "outputs": [],
   "source": [
    "corr_matrix[np.abs(corr_matrix)< 0.6]=0 #lesser than 0.6 and greater than -0.6\n",
    "corr_matrix"
   ]
  },
  {
   "cell_type": "code",
   "execution_count": null,
   "id": "4a393f19-f788-4500-bde0-24cd32dd0d0f",
   "metadata": {},
   "outputs": [],
   "source": [
    "palette = sns.color_palette('tab20b',10) # Default color palette\n",
    "sns.palplot(palette) # Plotting your palette!\n",
    "#sns.palplot(sns.color_palette('husl', 20)) # Seaborn color palette, with number of colors \n",
    "#sns.color_palette('rocket', as_cmap=True) # Get a CMap\n",
    "\n",
    "plt.figure(figsize=(18,9))\n",
    "sns.heatmap(corr_matrix, annot=True, cmap=palette)\n",
    "plt.show()\n"
   ]
  },
  {
   "cell_type": "markdown",
   "id": "f050732d-27b1-4bac-b05e-81a91ddb1b6f",
   "metadata": {},
   "source": [
    "# Detecting colinearity with Eigenvectors #"
   ]
  },
  {
   "cell_type": "code",
   "execution_count": 68,
   "id": "760c1903-4ac8-41f5-b206-312545a48fe2",
   "metadata": {},
   "outputs": [
    {
     "name": "stdout",
     "output_type": "stream",
     "text": [
      "INDUS RAD TAX\n"
     ]
    }
   ],
   "source": [
    "eigenvalues , eigenvectors= np.linalg.eig(Boston.corr())\n",
    "pd.Series(eigenvalues).sort_values()\n",
    "np.abs(pd.Series(eigenvectors[:,8])).sort_values(ascending=False)\n",
    "print(Boston.columns[2],Boston.columns[8],Boston.columns[9])\n"
   ]
  },
  {
   "cell_type": "markdown",
   "id": "01c75e12-f89c-4578-80e6-0d0bb8bb0658",
   "metadata": {},
   "source": [
    "small values= presence of colinearity"
   ]
  },
  {
   "cell_type": "markdown",
   "id": "b4a07849-50e3-4992-b626-1bbae1ffb300",
   "metadata": {},
   "source": [
    "# Revising Feature importance and Extractions #"
   ]
  },
  {
   "cell_type": "code",
   "execution_count": null,
   "id": "880e1e18-de08-492f-b17f-57f3c5a01635",
   "metadata": {},
   "outputs": [],
   "source": [
    "plt.hist(Boston['TAX'])\n",
    "#plt.hist(Boston['NOX'])\n"
   ]
  },
  {
   "cell_type": "markdown",
   "id": "d08ca0df-3819-4df8-9001-e6e24697a721",
   "metadata": {},
   "source": [
    "# Standardise variable to identify Key Features #"
   ]
  },
  {
   "cell_type": "code",
   "execution_count": 116,
   "id": "bb5b11dc-75a0-4567-809c-f2543d982e8a",
   "metadata": {},
   "outputs": [
    {
     "data": {
      "text/html": [
       "<div>\n",
       "<style scoped>\n",
       "    .dataframe tbody tr th:only-of-type {\n",
       "        vertical-align: middle;\n",
       "    }\n",
       "\n",
       "    .dataframe tbody tr th {\n",
       "        vertical-align: top;\n",
       "    }\n",
       "\n",
       "    .dataframe thead th {\n",
       "        text-align: right;\n",
       "    }\n",
       "</style>\n",
       "<table border=\"1\" class=\"dataframe\">\n",
       "  <thead>\n",
       "    <tr style=\"text-align: right;\">\n",
       "      <th></th>\n",
       "      <th>Coefficient</th>\n",
       "    </tr>\n",
       "    <tr>\n",
       "      <th>Name</th>\n",
       "      <th></th>\n",
       "    </tr>\n",
       "  </thead>\n",
       "  <tbody>\n",
       "    <tr>\n",
       "      <th>NOX</th>\n",
       "      <td>[17.766611228299993]</td>\n",
       "    </tr>\n",
       "    <tr>\n",
       "      <th>RM</th>\n",
       "      <td>[3.809865206809209]</td>\n",
       "    </tr>\n",
       "    <tr>\n",
       "      <th>CHAS</th>\n",
       "      <td>[2.686733819344964]</td>\n",
       "    </tr>\n",
       "    <tr>\n",
       "      <th>DIS</th>\n",
       "      <td>[1.4755668456002538]</td>\n",
       "    </tr>\n",
       "    <tr>\n",
       "      <th>PTRATIO</th>\n",
       "      <td>[0.9527472317072886]</td>\n",
       "    </tr>\n",
       "    <tr>\n",
       "      <th>LSTAT</th>\n",
       "      <td>[0.524758377855484]</td>\n",
       "    </tr>\n",
       "    <tr>\n",
       "      <th>RAD</th>\n",
       "      <td>[0.30604947898517126]</td>\n",
       "    </tr>\n",
       "    <tr>\n",
       "      <th>CRIM</th>\n",
       "      <td>[0.10801135783679763]</td>\n",
       "    </tr>\n",
       "    <tr>\n",
       "      <th>ZN</th>\n",
       "      <td>[0.04642045836688188]</td>\n",
       "    </tr>\n",
       "    <tr>\n",
       "      <th>INDUS</th>\n",
       "      <td>[0.020558626367068587]</td>\n",
       "    </tr>\n",
       "    <tr>\n",
       "      <th>TAX</th>\n",
       "      <td>[0.012334593916574571]</td>\n",
       "    </tr>\n",
       "    <tr>\n",
       "      <th>B</th>\n",
       "      <td>[0.00931168327379395]</td>\n",
       "    </tr>\n",
       "    <tr>\n",
       "      <th>AGE</th>\n",
       "      <td>[0.0006922246403469681]</td>\n",
       "    </tr>\n",
       "  </tbody>\n",
       "</table>\n",
       "</div>"
      ],
      "text/plain": [
       "                     Coefficient\n",
       "Name                            \n",
       "NOX         [17.766611228299993]\n",
       "RM           [3.809865206809209]\n",
       "CHAS         [2.686733819344964]\n",
       "DIS         [1.4755668456002538]\n",
       "PTRATIO     [0.9527472317072886]\n",
       "LSTAT        [0.524758377855484]\n",
       "RAD        [0.30604947898517126]\n",
       "CRIM       [0.10801135783679763]\n",
       "ZN         [0.04642045836688188]\n",
       "INDUS     [0.020558626367068587]\n",
       "TAX       [0.012334593916574571]\n",
       "B          [0.00931168327379395]\n",
       "AGE      [0.0006922246403469681]"
      ]
     },
     "execution_count": 116,
     "metadata": {},
     "output_type": "execute_result"
    }
   ],
   "source": [
    "from sklearn.linear_model import LinearRegression\n",
    "pd.options.display.float_format='{:,.4f}'.format\n",
    "\n",
    "model=LinearRegression()\n",
    "model.fit(X,Y)\n",
    "mc=list(np.transpose(model.coef_))\n",
    "bc=list((Boston.columns))\n",
    "bcc=np.transpose(bc)\n",
    "result=pd.DataFrame({'Name':bc,'Coefficient':mc}).set_index('Name')\n",
    "co=np.abs(result).sort_values(by=['Coefficient'], ascending=False)\n",
    "co\n"
   ]
  },
  {
   "cell_type": "markdown",
   "id": "8f3bec2e-7aac-4176-ae81-92adec0507ef",
   "metadata": {},
   "source": [
    "### 2nd method ###"
   ]
  },
  {
   "cell_type": "code",
   "execution_count": 111,
   "id": "37c25c8b-0eb8-4bfa-9e99-9e6630bfaac8",
   "metadata": {},
   "outputs": [
    {
     "data": {
      "text/html": [
       "<div>\n",
       "<style scoped>\n",
       "    .dataframe tbody tr th:only-of-type {\n",
       "        vertical-align: middle;\n",
       "    }\n",
       "\n",
       "    .dataframe tbody tr th {\n",
       "        vertical-align: top;\n",
       "    }\n",
       "\n",
       "    .dataframe thead th {\n",
       "        text-align: right;\n",
       "    }\n",
       "</style>\n",
       "<table border=\"1\" class=\"dataframe\">\n",
       "  <thead>\n",
       "    <tr style=\"text-align: right;\">\n",
       "      <th></th>\n",
       "      <th>Coefficient</th>\n",
       "    </tr>\n",
       "    <tr>\n",
       "      <th>Name</th>\n",
       "      <th></th>\n",
       "    </tr>\n",
       "  </thead>\n",
       "  <tbody>\n",
       "    <tr>\n",
       "      <th>LSTAT</th>\n",
       "      <td>[3.7436271264671093]</td>\n",
       "    </tr>\n",
       "    <tr>\n",
       "      <th>DIS</th>\n",
       "      <td>[3.10404425808644]</td>\n",
       "    </tr>\n",
       "    <tr>\n",
       "      <th>RM</th>\n",
       "      <td>[2.6742301652393135]</td>\n",
       "    </tr>\n",
       "    <tr>\n",
       "      <th>RAD</th>\n",
       "      <td>[2.6622176424736246]</td>\n",
       "    </tr>\n",
       "    <tr>\n",
       "      <th>TAX</th>\n",
       "      <td>[2.0767816838433744]</td>\n",
       "    </tr>\n",
       "    <tr>\n",
       "      <th>PTRATIO</th>\n",
       "      <td>[2.060606658906759]</td>\n",
       "    </tr>\n",
       "    <tr>\n",
       "      <th>NOX</th>\n",
       "      <td>[2.056718266005216]</td>\n",
       "    </tr>\n",
       "    <tr>\n",
       "      <th>ZN</th>\n",
       "      <td>[1.081568627822379]</td>\n",
       "    </tr>\n",
       "    <tr>\n",
       "      <th>CRIM</th>\n",
       "      <td>[0.9281460643011983]</td>\n",
       "    </tr>\n",
       "    <tr>\n",
       "      <th>B</th>\n",
       "      <td>[0.8492684177053327]</td>\n",
       "    </tr>\n",
       "    <tr>\n",
       "      <th>CHAS</th>\n",
       "      <td>[0.6817397247777929]</td>\n",
       "    </tr>\n",
       "    <tr>\n",
       "      <th>INDUS</th>\n",
       "      <td>[0.14089999690428257]</td>\n",
       "    </tr>\n",
       "    <tr>\n",
       "      <th>AGE</th>\n",
       "      <td>[0.019466071657046835]</td>\n",
       "    </tr>\n",
       "  </tbody>\n",
       "</table>\n",
       "</div>"
      ],
      "text/plain": [
       "                    Coefficient\n",
       "Name                           \n",
       "LSTAT      [3.7436271264671093]\n",
       "DIS          [3.10404425808644]\n",
       "RM         [2.6742301652393135]\n",
       "RAD        [2.6622176424736246]\n",
       "TAX        [2.0767816838433744]\n",
       "PTRATIO     [2.060606658906759]\n",
       "NOX         [2.056718266005216]\n",
       "ZN          [1.081568627822379]\n",
       "CRIM       [0.9281460643011983]\n",
       "B          [0.8492684177053327]\n",
       "CHAS       [0.6817397247777929]\n",
       "INDUS     [0.14089999690428257]\n",
       "AGE      [0.019466071657046835]"
      ]
     },
     "execution_count": 111,
     "metadata": {},
     "output_type": "execute_result"
    }
   ],
   "source": [
    "from sklearn.preprocessing import StandardScaler\n",
    "from sklearn.pipeline import make_pipeline\n",
    "scaler=StandardScaler()\n",
    "standard_coefficient_linear_reg=make_pipeline(scaler,model)\n",
    "standard_coefficient_linear_reg.fit(X,Y)\n",
    "scl=list(np.transpose(standard_coefficient_linear_reg.steps[1][1].coef_))\n",
    "result=pd.DataFrame({'Name':bcc,'Coefficient':scl}).set_index('Name')\n",
    "co=np.abs(result).sort_values(by=['Coefficient'], ascending=False)\n",
    "co\n"
   ]
  },
  {
   "cell_type": "markdown",
   "id": "2525c38d-6851-40ea-b36e-7446e2d1f122",
   "metadata": {},
   "source": [
    "## Use R² to identify key features ##\n",
    "<ul>\n",
    "<li>Compare R² of the model with R² without a feature</li>\n",
    "<li>significant change in R² means the importance of the feature</li>\n",
    "</ul>"
   ]
  },
  {
   "cell_type": "code",
   "execution_count": 118,
   "id": "dcfca82a-7d36-4738-ae34-60b1b5383f33",
   "metadata": {},
   "outputs": [
    {
     "data": {
      "text/plain": [
       "0.7406426641094094"
      ]
     },
     "execution_count": 118,
     "metadata": {},
     "output_type": "execute_result"
    }
   ],
   "source": [
    "from sklearn.metrics import r2_score\n",
    "import statsmodels.formula.api as smf\n",
    "\n",
    "linear_reg=smf.ols(formula='Y ~ CRIM+ZN+INDUS+CHAS+NOX+RM+AGE+DIS+RAD+TAX+PTRATIO+B+LSTAT',data=Boston)\n",
    "Benchmark=linear_reg.fit()\n",
    "r2_score(Y,Benchmark.predict(Boston))\n"
   ]
  },
  {
   "cell_type": "markdown",
   "id": "9cf2910b-c56a-4f0c-8ae1-0caed7d5b687",
   "metadata": {},
   "source": [
    "## Without LSTAT ##"
   ]
  },
  {
   "cell_type": "code",
   "execution_count": 120,
   "id": "3712da64-1e91-4468-a99d-9e792a7525b1",
   "metadata": {},
   "outputs": [
    {
     "data": {
      "text/plain": [
       "0.6842042799773889"
      ]
     },
     "execution_count": 120,
     "metadata": {},
     "output_type": "execute_result"
    }
   ],
   "source": [
    "linear_reg=smf.ols(formula='Y ~ CRIM+ZN+INDUS+CHAS+NOX+RM+AGE+DIS+RAD+TAX+PTRATIO+B',data=Boston)\n",
    "lr_lstat=linear_reg.fit()\n",
    "r2_score(Y,lr_lstat.predict(Boston))\n"
   ]
  },
  {
   "cell_type": "markdown",
   "id": "ddefbeec-dca2-4fa8-b802-ee4c3f122ada",
   "metadata": {},
   "source": [
    "## Without AGE ##"
   ]
  },
  {
   "cell_type": "code",
   "execution_count": 122,
   "id": "e1e88f4b-f560-49e3-b2bb-cdaf121cef0d",
   "metadata": {},
   "outputs": [
    {
     "data": {
      "text/plain": [
       "0.7406412165505145"
      ]
     },
     "execution_count": 122,
     "metadata": {},
     "output_type": "execute_result"
    }
   ],
   "source": [
    "linear_reg=smf.ols(formula='Y ~ CRIM+ZN+INDUS+CHAS+NOX+RM+DIS+RAD+TAX+PTRATIO+B+LSTAT',data=Boston)\n",
    "lr_AGE=linear_reg.fit()\n",
    "r2_score(Y,lr_AGE.predict(Boston))\n"
   ]
  },
  {
   "cell_type": "code",
   "execution_count": null,
   "id": "565c402f-1623-4f69-9771-4b494121bf23",
   "metadata": {},
   "outputs": [],
   "source": []
  }
 ],
 "metadata": {
  "kernelspec": {
   "display_name": "Python 3 (ipykernel)",
   "language": "python",
   "name": "python3"
  },
  "language_info": {
   "codemirror_mode": {
    "name": "ipython",
    "version": 3
   },
   "file_extension": ".py",
   "mimetype": "text/x-python",
   "name": "python",
   "nbconvert_exporter": "python",
   "pygments_lexer": "ipython3",
   "version": "3.11.0"
  }
 },
 "nbformat": 4,
 "nbformat_minor": 5
}
