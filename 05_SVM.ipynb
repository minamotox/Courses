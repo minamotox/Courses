{
 "cells": [
  {
   "cell_type": "markdown",
   "id": "06d91209-b44b-49d5-aa96-40c4035d1285",
   "metadata": {},
   "source": [
    "# Support Vector Machine #"
   ]
  },
  {
   "cell_type": "code",
   "execution_count": null,
   "id": "763617cc-a6fd-4adf-bfaa-24ae571a7623",
   "metadata": {},
   "outputs": [],
   "source": [
    "import numpy as np\n",
    "import pandas as pd\n",
    "import sklearn\n",
    "import seaborn as sns\n",
    "import matplotlib.pyplot as plt\n",
    "sns.set_style('whitegrid')\n",
    "%matplotlib inline\n",
    "import sys\n",
    "import matplotlib\n",
    "\n",
    "print('python:',sys.version)\n",
    "print('Numpy:',np.__version__)\n",
    "print('Pandas:',pd.__version__)\n",
    "print('Scikitlearn:',sklearn.__version__)\n",
    "print('Seaborn: ',sns.__version__)\n",
    "print('matplotlib:',matplotlib.__version__)\n"
   ]
  },
  {
   "cell_type": "markdown",
   "id": "44c904bc-8d48-417c-bca0-b90217eeef77",
   "metadata": {},
   "source": [
    "Invented in 1963 by Vladimir N.Vapnik. <br>\n",
    "in 1992, he suggested a way to to create non linear classifiers by applying the kernel trick to maximum margin hyperplanes.<br>\n",
    "The current standard incarnation (soft margin) was published in 1995 by Corinna Cortes.<br>\n",
    "It's a supervised machine learning method used for classification, regression and outliers detection.<br>\n",
    "In classification, it's about the best way to separate the classes, however, there is infinite lines (2D) or hyperplanes (3D) that can be used to separate 2 classes. <br>\n",
    "In SVM, the separating line is the line that allows for largest margin between 2 classes(or more), the separating line is placed in the middle of the margin (maximum margin), than, it will optimize and locate the hyperplane that maximises the margin of the 2 classes (or more). The samples that are closest to the hyperplane are called <b> Support Vectors </b>."
   ]
  },
  {
   "cell_type": "markdown",
   "id": "99cba2ea-910e-4bd2-9159-168d74d14484",
   "metadata": {},
   "source": [
    "# I. Linear SVM Classification: #"
   ]
  },
  {
   "cell_type": "markdown",
   "id": "8dcc5041-0be0-4615-9930-e3f6bd25ecf0",
   "metadata": {},
   "source": [
    "<ul>\n",
    "<li>Calculate support vectors.</li>\n",
    "<li>Separate with straight line (Linearly separable).</li>\n",
    "<li>Hard margin Classification: strictly based on those which are at the margin between the 2 classes, however , it's sensitive to outliers.</li>\n",
    "<li>Soft margin classification: widen the margin and allows for violation, with scikit learn you can control the width of the margin. Control with C hyperparameter:<ul> <ul><li>smaller C leads to a wide street but more margin violations</li> \n",
    "<li> High C means smaller margin and  fewer margin violations.</li> </ul></ul></li>\n",
    "<br>SVM are sensitive to feature scaling.\n",
    "    "
   ]
  },
  {
   "cell_type": "code",
   "execution_count": null,
   "id": "310057e1-5267-4e8a-aa61-f7d8efe4b51b",
   "metadata": {},
   "outputs": [],
   "source": [
    "from sklearn import svm\n",
    "\n",
    "Iris=pd.read_csv(r'C:\\Users\\minam\\Dev py\\Coursera\\Machine Learning_Anthony Ng/Data/Iris.csv')\n",
    "Iris.head()\n"
   ]
  },
  {
   "cell_type": "code",
   "execution_count": null,
   "id": "63634915-dbb9-4d5d-9c8d-81acd306d394",
   "metadata": {},
   "outputs": [],
   "source": [
    "col=['PetalLengthCm','PetalWidthCm','Species']\n",
    "Iris_df=Iris.loc[:,col]\n",
    "np.unique(Iris['Species'],return_counts=True)\n",
    "Iris_df"
   ]
  },
  {
   "cell_type": "code",
   "execution_count": null,
   "id": "a7dedf20-e159-40d7-a406-a6063ff1c879",
   "metadata": {},
   "outputs": [],
   "source": [
    "from sklearn.model_selection import train_test_split\n",
    "from sklearn.preprocessing import StandardScaler\n",
    "\n",
    "Spec_to_num={'Iris-setosa':0,'Iris-versicolor':1,'Iris-virginica':2 }\n",
    "Y=Iris_df['Species'].map(Spec_to_num)\n",
    "X=Iris_df.loc[:, 'PetalLengthCm':'PetalWidthCm']\n",
    "X_train, X_test, Y_train, Y_test=train_test_split(X,Y,train_size=0.8, random_state=0)\n",
    "X_test, Y_test\n"
   ]
  },
  {
   "cell_type": "markdown",
   "id": "ea882d2e-6117-44f8-b288-b5a01181280d",
   "metadata": {},
   "source": [
    "<ul>\n",
    "<li><b>Linear SVC: </b>similar to SVC with parameter kernel='linear', but implemented in terms of liblinear rather than libsvm, so it has more flexibility in the choice of penalties and loss functions, and should scale better to large numbers of samples. </li> \n",
    "<li><b>SVC: </b>C-Support Vector Classification, the implementation is based on libsvm. The fit time complexity is more than quadratic with the number of samples which makes it hard to scale to dataset with more than a couple of 10000 samples. </li>\n"
   ]
  },
  {
   "cell_type": "code",
   "execution_count": null,
   "id": "57cb223a-8fbc-4e9c-b7be-e2a26270f4ae",
   "metadata": {},
   "outputs": [],
   "source": [
    "C=0.001\n",
    "clf=svm.SVC(kernel='linear',C=C)\n",
    "#clf=svm.linearSVC(C=C, loss='hinge')\n",
    "#clf=svm.SVC(kernel='poly', degree=3,C=C)\n",
    "#clf=svm.SVC(kernel='rbf', gamma=0.7,C=C)\n",
    "clf.fit(X,Y)\n"
   ]
  },
  {
   "cell_type": "code",
   "execution_count": null,
   "id": "718a9c97-6539-4da9-bc55-a25d91398c30",
   "metadata": {},
   "outputs": [],
   "source": [
    "clf.predict([[6,2]])\n"
   ]
  },
  {
   "cell_type": "code",
   "execution_count": null,
   "id": "a6f9d9ce-74e7-4e80-863a-e292883e30b7",
   "metadata": {},
   "outputs": [],
   "source": [
    "Xv=X.values.reshape(-1,1)\n",
    "h=0.02\n",
    "X_min,X_max=Xv.min(),Xv.max()+1\n",
    "Y_min,Y_max=Y.min(),Y.max()+1\n",
    "xx,yy=np.meshgrid(np.arange(X_min,X_max,h), np.arange(Y_min,Y_max,h))\n",
    "yy"
   ]
  },
  {
   "cell_type": "code",
   "execution_count": null,
   "id": "d9e1759b-949d-4b4d-b857-21ac44ca2818",
   "metadata": {},
   "outputs": [],
   "source": [
    "z=clf.predict(np.c_[xx.ravel(),yy.ravel()])\n",
    "z=z.reshape(xx.shape)\n",
    "fig=plt.figure(figsize=(10,6))\n",
    "ax=plt.contourf(xx,yy,z,cmap='afmhot',alpha=0.3)\n",
    "plt.scatter(X.values[:,0], X.values[:,1],c=Y, s=80,alpha=0.9, edgecolors='g')\n",
    "plt.show()\n"
   ]
  },
  {
   "cell_type": "markdown",
   "id": "3a65ccd3-265e-4519-a085-b9f13ce801ae",
   "metadata": {},
   "source": [
    "## 1) Implementation : ##"
   ]
  },
  {
   "cell_type": "code",
   "execution_count": null,
   "id": "063e9cb3-d40b-43d2-ad86-9a55b34de513",
   "metadata": {},
   "outputs": [],
   "source": [
    "#Scaling\n",
    "from sklearn.model_selection import train_test_split\n",
    "from sklearn.preprocessing import StandardScaler\n",
    "X_train, X_test, Y_train, Y_test=train_test_split(X,Y,train_size=0.8, random_state=0)\n",
    "sc_x=StandardScaler()\n",
    "X_st_train=sc_x.fit_transform(X_train)\n",
    "X_st_train\n"
   ]
  },
  {
   "cell_type": "code",
   "execution_count": null,
   "id": "a953ed3a-4b1c-4996-9f99-478e3f71fe4f",
   "metadata": {},
   "outputs": [],
   "source": [
    "C=1.0\n",
    "clf=svm.SVC(kernel='linear', C=C)\n",
    "clf.fit(X_st_train, Y_train)\n"
   ]
  },
  {
   "cell_type": "code",
   "execution_count": null,
   "id": "721c6640-dd96-4391-b8c8-c08483efebde",
   "metadata": {},
   "outputs": [],
   "source": [
    "#Cross validation\n",
    "from sklearn.model_selection import cross_val_score,cross_val_predict\n",
    "from sklearn.metrics import confusion_matrix, precision_score, recall_score, f1_score\n",
    "\n",
    "res=cross_val_score(clf,X_st_train, Y_train, cv=10, scoring='accuracy' )\n",
    "print(f'Accuracy= \\t %.4f +/- %.4f'% (np.mean(res), np.std(res)))\n",
    "res\n"
   ]
  },
  {
   "cell_type": "code",
   "execution_count": null,
   "id": "03eed5e6-3a4f-4cc6-9267-978634775f15",
   "metadata": {},
   "outputs": [],
   "source": [
    "Y_train_pred=cross_val_predict(clf,X_st_train, Y_train, cv=3)\n",
    "confusion_matrix(Y_train,Y_train_pred )\n",
    "\n",
    "print(f'Precision Score= %.4f \\n Recall Score= %.4f \\n F1 Score= %.4f'% (precision_score(Y_train, Y_train_pred, average='weighted'),\n",
    "recall_score(Y_train, Y_train_pred, average='weighted'),f1_score(Y_train, Y_train_pred, average='weighted')))\n"
   ]
  },
  {
   "cell_type": "code",
   "execution_count": null,
   "id": "23d0de55-bc06-451a-8947-2cb14b393378",
   "metadata": {},
   "outputs": [],
   "source": [
    "#Cross validation with test set \n",
    "X_st_test=sc_x.fit_transform(X_test)\n",
    "Y_test_pred=cross_val_predict(clf,X_st_test, Y_test, cv=3)\n",
    "confusion_matrix(Y_test,Y_test_pred )\n"
   ]
  },
  {
   "cell_type": "code",
   "execution_count": null,
   "id": "3eb96a5c-5107-41fc-a755-02f8583176ff",
   "metadata": {},
   "outputs": [],
   "source": [
    "print(f'Precision Score= %.4f \\n Recall Score= %.4f \\n F1 Score= %.4f'% (precision_score(Y_test, Y_test_pred, average='weighted'),\n",
    "recall_score(Y_test, Y_test_pred, average='weighted'),f1_score(Y_test, Y_test_pred, average='weighted')))\n",
    "print('F1 Score 2nd display = {0:.4f}'.format(f1_score(Y_test, Y_test_pred, average='weighted')))\n"
   ]
  },
  {
   "cell_type": "markdown",
   "id": "38bd59a1-ef16-4470-aaf4-cca60a905a5d",
   "metadata": {},
   "source": [
    "## 2)Polynomial Kernel: ##"
   ]
  },
  {
   "cell_type": "code",
   "execution_count": null,
   "id": "ac5e91a5-0551-4b1e-82d7-59c7fbb7b472",
   "metadata": {},
   "outputs": [],
   "source": [
    "C=1\n",
    "clf=svm.SVC(kernel='poly', degree=3,C=C, gamma='auto')\n",
    "clf.fit(X,Y)\n",
    "Xv=X.values.reshape(-1,1)\n",
    "h=0.02\n",
    "X_min,X_max=Xv.min(),Xv.max()+1\n",
    "Y_min,Y_max=Y.min(),Y.max()+1\n",
    "xx,yy=np.meshgrid(np.arange(X_min,X_max,h), np.arange(Y_min,Y_max,h))\n",
    "yy\n"
   ]
  },
  {
   "cell_type": "code",
   "execution_count": null,
   "id": "4d76f243-4f6e-47a9-a99f-0709f503bee1",
   "metadata": {},
   "outputs": [],
   "source": [
    "z=clf.predict(np.c_[xx.ravel(),yy.ravel()])\n",
    "z=z.reshape(xx.shape)\n",
    "fig=plt.figure(figsize=(10,6))\n",
    "ax=plt.contourf(xx,yy,z,cmap='afmhot',alpha=0.3)\n",
    "plt.scatter(X.values[:,0], X.values[:,1],c=Y, s=80,alpha=0.9, edgecolors='g')\n",
    "plt.show()\n"
   ]
  },
  {
   "cell_type": "markdown",
   "id": "a944ff11-46f8-4c55-acde-58e791d9f72f",
   "metadata": {},
   "source": [
    "### Implementation: ###"
   ]
  },
  {
   "cell_type": "code",
   "execution_count": null,
   "id": "3eb71112-ea98-435f-ae13-8a42169f1672",
   "metadata": {},
   "outputs": [],
   "source": [
    "from sklearn.model_selection import train_test_split\n",
    "from sklearn.preprocessing import StandardScaler\n",
    "\n",
    "X_train, X_test, Y_train, Y_test=train_test_split(X,Y,train_size=0.8, random_state=0)\n",
    "sc_x=StandardScaler()\n",
    "X_st_train=sc_x.fit_transform(X_train)\n",
    "C=1.0\n",
    "clf=svm.SVC(kernel='poly', degree=10, C=C, gamma='auto')\n",
    "clf.fit(X_st_train,Y_train )\n"
   ]
  },
  {
   "cell_type": "markdown",
   "id": "022f6929-8ab2-4662-8457-fd7c08e0e18c",
   "metadata": {},
   "source": [
    "### Cross Validation with Train set ###"
   ]
  },
  {
   "cell_type": "code",
   "execution_count": null,
   "id": "b234357b-f566-4ac8-a623-1c008b637df1",
   "metadata": {},
   "outputs": [],
   "source": [
    "from sklearn.model_selection import cross_val_score,cross_val_predict\n",
    "from sklearn.metrics import confusion_matrix, precision_score, recall_score, f1_score\n",
    "\n",
    "res=cross_val_score(clf,X_st_train, Y_train, cv=10, scoring='accuracy')\n",
    "print(f'Average Accuracy= %.4f +/- %.4f \\n' % (np.mean(res), np.std(res)))\n"
   ]
  },
  {
   "cell_type": "code",
   "execution_count": null,
   "id": "4cb9a529-cade-4ff7-be8b-873d901db3c0",
   "metadata": {},
   "outputs": [],
   "source": [
    "Y_train_pred=cross_val_predict(clf,X_st_train, Y_train, cv=10)\n",
    "confusion_matrix(Y_train, Y_train_pred)\n"
   ]
  },
  {
   "cell_type": "code",
   "execution_count": null,
   "id": "a2105420-bfb1-4059-adcb-7f7f568b06c8",
   "metadata": {},
   "outputs": [],
   "source": [
    "print(f'Precision Score= %.4f \\n Recall Score= %.4f \\n F1 Score= %.4f'% (precision_score(Y_train, Y_train_pred, average='weighted'),\n",
    "recall_score(Y_train, Y_train_pred, average='weighted'),f1_score(Y_train, Y_train_pred, average='weighted')))\n"
   ]
  },
  {
   "cell_type": "markdown",
   "id": "e6893097-cee2-42b0-86b1-b94c90db1fc9",
   "metadata": {},
   "source": [
    "### Cross Validation with Test set ###"
   ]
  },
  {
   "cell_type": "code",
   "execution_count": null,
   "id": "d40d08b7-3391-441a-8ff3-751adebd9d3f",
   "metadata": {},
   "outputs": [],
   "source": [
    "Y_test_pred=cross_val_predict(clf,sc_x.fit_transform(X_test), Y_test, cv=3)\n",
    "confusion_matrix(Y_test,Y_test_pred)\n"
   ]
  },
  {
   "cell_type": "code",
   "execution_count": null,
   "id": "6980e0d6-6ae7-4a22-b4df-e29cb66849a3",
   "metadata": {},
   "outputs": [],
   "source": [
    "print(f'Precision Score= %.4f \\n Recall Score= %.4f \\n F1 Score= %.4f'% (precision_score(Y_test, Y_test_pred, average='weighted'),\n",
    "recall_score(Y_test, Y_test_pred, average='weighted'),f1_score(Y_test, Y_test_pred, average='weighted')))\n"
   ]
  },
  {
   "cell_type": "markdown",
   "id": "9f6c8e80-8c4b-4741-8cb3-fc79ee0c297e",
   "metadata": {},
   "source": [
    "## 3) Gaussian Radial Basis Function: ##"
   ]
  },
  {
   "cell_type": "markdown",
   "id": "8d1fa0fa-2f32-435e-bc60-8a46fcc927ac",
   "metadata": {},
   "source": [
    "The kernel function can be any of the following:\n",
    "<ul>\n",
    "<li>Linear: (x,x')\n",
    "<li>Polynomial: $$(\\gamma (x,x')+r)^d $$  <br>d is specified by keyword degree<br>r by coef0\n",
    "<li>rbf: $$exp(-\\gamma ||x-x'||^2) $$<br>$\\gamma$ is specified by keyword gamma, must be > 0\n",
    "<li>Sigmoid: $$ tanh(\\gamma (x,x')+r)$$ <br>where r is specified by coef0\n",
    "</ul>\n"
   ]
  },
  {
   "cell_type": "code",
   "execution_count": null,
   "id": "9605cbaf-57a9-42e2-88c3-83dfaeb7a0bb",
   "metadata": {},
   "outputs": [],
   "source": [
    "from sklearn.preprocessing import StandardScaler\n",
    "\n",
    "X_train, X_test, Y_train, Y_test=train_test_split(X,Y,train_size=0.8, random_state=0)\n",
    "sc_x=StandardScaler()\n",
    "X_sts_train=sc_x.fit_transform(X_train)\n",
    "C=1\n",
    "clf=svm.SVC(kernel='rbf', gamma=0.7, C=C)\n",
    "clf.fit(X_sts_train, Y_train)\n"
   ]
  },
  {
   "cell_type": "code",
   "execution_count": null,
   "id": "bf356448-e04a-463c-b15f-9d4ba2d454b2",
   "metadata": {},
   "outputs": [],
   "source": [
    "from sklearn.model_selection import cross_val_score,cross_val_predict\n",
    "from sklearn.metrics import confusion_matrix, precision_score, recall_score, f1_score\n",
    "\n",
    "res=cross_val_score(clf,X_sts_train, Y_train, cv=10, scoring='accuracy')\n",
    "print(f'Average Accuracy= %.4f +/- %.4f \\n' % (np.mean(res), np.std(res)))\n"
   ]
  },
  {
   "cell_type": "code",
   "execution_count": null,
   "id": "aee6f02f-6400-4b70-b675-c822b963c59a",
   "metadata": {},
   "outputs": [],
   "source": [
    "Y_train_pred=cross_val_predict(clf,sc_x.fit_transform(X_sts_train), Y_train, cv=3)\n",
    "confusion_matrix(Y_train,Y_train_pred)\n"
   ]
  },
  {
   "cell_type": "code",
   "execution_count": null,
   "id": "cb82e416-7757-442b-8bab-e414833b6629",
   "metadata": {},
   "outputs": [],
   "source": [
    "print(f'Precision Score= %.4f \\nRecall Score=\\t %.4f \\nF1 Score=\\t %.4f'% (precision_score(Y_train, Y_train_pred, average='weighted'),\n",
    "recall_score(Y_train, Y_train_pred, average='weighted'),f1_score(Y_train, Y_train_pred, average='weighted')))\n"
   ]
  },
  {
   "cell_type": "markdown",
   "id": "19bcfb51-7912-42a9-9461-33062187a02a",
   "metadata": {},
   "source": [
    "### Grid Search ###"
   ]
  },
  {
   "cell_type": "code",
   "execution_count": null,
   "id": "9c5dbf9d-f0f4-4cb7-b1bc-0f11cc35aa99",
   "metadata": {},
   "outputs": [],
   "source": [
    "from sklearn.pipeline import Pipeline\n",
    "from sklearn.model_selection import train_test_split , GridSearchCV#grid search cross validation\n",
    "\n",
    "pieline=Pipeline([('clf', svm.SVC(kernel='rbf', C=1, gamma=0.1))])\n",
    "params={'clf__C': (0.1,0.5,1,2,5,10,20), 'clf__gamma':(0.001,0.01, 0.1,0.25,0.5,0.75,1)}\n",
    "col=['PetalLengthCm','PetalWidthCm']\n",
    "\n",
    "svm_grid_rbf=GridSearchCV(pieline, params, n_jobs=-1, cv=3, verbose=1, scoring='accuracy')\n",
    "\n",
    "X_train.values\n",
    "\n",
    "svm_grid_rbf.fit(X_train,y=Y_train)\n"
   ]
  },
  {
   "cell_type": "code",
   "execution_count": null,
   "id": "600f7da8-427e-4101-addc-99b93ed88725",
   "metadata": {},
   "outputs": [],
   "source": [
    "\n",
    "best=svm_grid_rbf.best_estimator_.get_params()\n",
    "svm_grid_rbf.best_score_\n"
   ]
  },
  {
   "cell_type": "code",
   "execution_count": null,
   "id": "0296124e-3783-40a9-bb07-339e93ddbfad",
   "metadata": {},
   "outputs": [],
   "source": [
    "for k in sorted (params.keys()):\n",
    "    print(f'{k} : \\t{best[k]}')\n"
   ]
  },
  {
   "cell_type": "markdown",
   "id": "b5ca7374-7aec-4a6f-8cfa-8881abe8c636",
   "metadata": {},
   "source": [
    "### Conductiong validation in the test set: ###"
   ]
  },
  {
   "cell_type": "code",
   "execution_count": null,
   "id": "bb58c71e-3bd0-48f0-a72c-f4538470f217",
   "metadata": {},
   "outputs": [],
   "source": [
    "Y_test_pred=svm_grid_rbf.predict(X_test)\n",
    "confusion_matrix(Y_test, Y_test_pred )\n"
   ]
  },
  {
   "cell_type": "code",
   "execution_count": null,
   "id": "9ff59d99-c842-465d-9a06-7286bc463a3b",
   "metadata": {},
   "outputs": [],
   "source": [
    "print(f'Precision Score= %.4f \\nRecall Score=\\t %.4f \\nF1 Score=\\t %.4f'% (precision_score(Y_test, Y_test_pred, average='weighted'),\n",
    "recall_score(Y_test, Y_test_pred, average='weighted'),f1_score(Y_test, Y_test_pred, average='weighted')))\n"
   ]
  },
  {
   "cell_type": "code",
   "execution_count": null,
   "id": "17dea32a-ca0b-4f3e-b2be-3a2a75d2a44a",
   "metadata": {},
   "outputs": [],
   "source": [
    "Xv=X.values.reshape(-1,1)\n",
    "h=0.02\n",
    "X_min,X_max=Xv.min(),Xv.max()+1\n",
    "Y_min,Y_max=Y.min(),Y.max()+1\n",
    "xx,yy=np.meshgrid(np.arange(X_min,X_max,h), np.arange(Y_min,Y_max,h))\n",
    "yy\n",
    "z=svm_grid_rbf.predict(np.c_[xx.ravel(),yy.ravel()])\n",
    "z=z.reshape(xx.shape)\n",
    "fig=plt.figure(figsize=(10,6))\n",
    "ax=plt.contourf(xx,yy,z,cmap='afmhot',alpha=0.3)\n",
    "plt.scatter(X.values[:,0], X.values[:,1],c=Y, s=80,alpha=0.9, edgecolors='g')\n",
    "plt.show()\n"
   ]
  },
  {
   "cell_type": "markdown",
   "id": "70824635-c82f-4b06-9bd4-6f90629f42f0",
   "metadata": {},
   "source": [
    "# II. Linear SVM Regression: #"
   ]
  },
  {
   "cell_type": "code",
   "execution_count": null,
   "id": "80a6dc52-e139-4723-b998-bdbfe9eaf01a",
   "metadata": {},
   "outputs": [],
   "source": [
    "\n",
    "Boston=pd.read_csv('Data/housing.data',delim_whitespace=True, header=None)\n",
    "Boston.columns=['CRIM','ZN','INDUS','CHAS','NOX','RM','AGE','DIS','RAD','TAX',\n",
    "                'PTRATIO','B','LSTAT','MEDV']\n",
    "#Boston.to_csv('Boston.csv')\n",
    "Boston.describe()\n",
    "X=Boston['LSTAT'].values\n",
    "Y=Boston['MEDV']\n",
    "Y\n"
   ]
  },
  {
   "cell_type": "code",
   "execution_count": null,
   "id": "a53fb677-948f-4411-bed3-5b3178af57e6",
   "metadata": {},
   "outputs": [],
   "source": [
    "from sklearn.svm import SVR\n",
    "from sklearn.metrics import mean_squared_error, r2_score\n",
    "\n",
    "svr=SVR(gamma='auto')\n",
    "svr.fit(X.reshape(-1,1), Y)\n",
    "sort_idx=X.flatten().argsort()\n"
   ]
  },
  {
   "cell_type": "code",
   "execution_count": null,
   "id": "68e76167-6995-4f50-aa64-22630d72e7ba",
   "metadata": {},
   "outputs": [],
   "source": [
    "plt.figure(figsize=(10,6))\n",
    "plt.scatter(X[sort_idx], Y[sort_idx])\n",
    "plt.plot(X[sort_idx],svr.predict(X[sort_idx].reshape(-1,1)), color='k') \n",
    "plt.xlabel('LSTAT')\n",
    "plt.ylabel('MEDV')\n",
    "plt.show()\n"
   ]
  },
  {
   "cell_type": "code",
   "execution_count": null,
   "id": "b986906d-3fc7-4cc4-983a-92737ae26189",
   "metadata": {},
   "outputs": [],
   "source": [
    "X_train, X_test, Y_train, Y_test=train_test_split(X,Y,train_size=0.7, random_state=42)\n"
   ]
  },
  {
   "cell_type": "markdown",
   "id": "e4d87b4f-65b8-4b33-a3a1-cabc8556f1f3",
   "metadata": {},
   "source": [
    "### Linear Kernel ###"
   ]
  },
  {
   "cell_type": "code",
   "execution_count": null,
   "id": "5cdde85a-2e05-4e04-816e-f41889440d7b",
   "metadata": {},
   "outputs": [],
   "source": [
    "svr=SVR(kernel='linear')\n",
    "svr.fit(X.reshape(-1,1), Y)\n",
    "Y_train_pred=svr.predict(X_train.reshape(-1,1))\n",
    "Y_test_pred=svr.predict(X_test.reshape(-1,1))\n",
    "print(f'MSE Train= %.4f , MSE Test= %.4f'% (mean_squared_error(Y_train,Y_train_pred),mean_squared_error(Y_test,Y_test_pred) ))\n",
    "print(f'R² score Train= %.4f , R² score Test= %.4f'% (r2_score(Y_train,Y_train_pred),r2_score(Y_test,Y_test_pred)))\n"
   ]
  },
  {
   "cell_type": "markdown",
   "id": "4abc7fd5-ea4f-44ed-9175-67386b9f2e34",
   "metadata": {},
   "source": [
    "### Polynomial Kernel ###"
   ]
  },
  {
   "cell_type": "code",
   "execution_count": null,
   "id": "6a95a9b3-9832-4761-9662-1903c1201fa7",
   "metadata": {},
   "outputs": [],
   "source": [
    "svr=SVR(kernel='poly', C=1e3, degree=2, gamma='auto')\n",
    "svr.fit(X_train.reshape(-1,1), Y_train)\n",
    "Y_train_pred=svr.predict(X_train.reshape(-1,1))\n",
    "Y_test_pred=svr.predict(X_test.reshape(-1,1))\n",
    "print(f'MSE Train= %.4f , MSE Test= %.4f'% (mean_squared_error(Y_train,Y_train_pred),mean_squared_error(Y_test,Y_test_pred) ))\n",
    "print(f'R² score Train= %.4f , R² score Test= %.4f'% (r2_score(Y_train,Y_train_pred),r2_score(Y_test,Y_test_pred)))\n"
   ]
  },
  {
   "cell_type": "markdown",
   "id": "e5f81609-cec9-428c-bdd4-4b7d5ba0ad09",
   "metadata": {},
   "source": [
    "### rbf Kernel ###"
   ]
  },
  {
   "cell_type": "code",
   "execution_count": null,
   "id": "77d202eb-944a-4f25-ae81-d0ad488253c6",
   "metadata": {},
   "outputs": [],
   "source": [
    "svr=SVR(kernel='rbf', C=1e3, gamma=0.1)\n",
    "svr.fit(X_train.reshape(-1,1), Y_train)\n",
    "Y_train_pred=svr.predict(X_train.reshape(-1,1))\n",
    "Y_test_pred=svr.predict(X_test.reshape(-1,1))\n",
    "print(f'MSE Train= %.4f , MSE Test= %.4f'% (mean_squared_error(Y_train,Y_train_pred),mean_squared_error(Y_test,Y_test_pred) ))\n",
    "print(f'R² score Train= %.4f , R² score Test= %.4f'% (r2_score(Y_train,Y_train_pred),r2_score(Y_test,Y_test_pred)))\n"
   ]
  },
  {
   "cell_type": "markdown",
   "id": "d0fa99f1-081d-4786-9464-a1cbef00a2b4",
   "metadata": {},
   "source": [
    "# III. Advantages and disadvantages : #\n",
    "The advantages are:\n",
    "<ul>\n",
    "<li>Effective in high dimensional spaces </li>\n",
    "<li>Uses only a subset of training points (support vector) in the decision function. </li>\n",
    "<li>Many diffeerent kernel functions can be specified for the decision function. </li>\n",
    "<ul><li>Linear </li>\n",
    "<li>Polynomial </li>\n",
    "<li>RBF </li>\n",
    "<li>Sigmoid </li>\n",
    "<li>Custom </li>\n",
    "</ul>\n",
    "</ul>\n",
    "The disadvantages of support vector machine include:\n",
    "<ul>\n",
    "<li>Beware of overfitting when num_features > num_samples. </li>\n",
    "<li>Choice of kernel and Regularization can have a large impact on performance. </li>\n",
    "<li>No probability estimates </li>\n",
    "</ul>\n"
   ]
  },
  {
   "cell_type": "markdown",
   "id": "e9ec50be-cb6c-4ade-950b-cd90a3846345",
   "metadata": {},
   "source": [
    "\n",
    "|Classe | Out of Core Support | Kernel Trick |\n",
    "-----------|:----------------------------:|:----------------:|\n",
    "'SGD Classifier' | Yes | No |\n",
    "'Linear SVC' | No | No |\n",
    "'SVC' |No | Yes |\n"
   ]
  }
 ],
 "metadata": {
  "kernelspec": {
   "display_name": "Python 3 (ipykernel)",
   "language": "python",
   "name": "python3"
  },
  "language_info": {
   "codemirror_mode": {
    "name": "ipython",
    "version": 3
   },
   "file_extension": ".py",
   "mimetype": "text/x-python",
   "name": "python",
   "nbconvert_exporter": "python",
   "pygments_lexer": "ipython3",
   "version": "3.9.17"
  }
 },
 "nbformat": 4,
 "nbformat_minor": 5
}
