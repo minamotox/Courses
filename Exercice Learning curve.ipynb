{
 "cells": [
  {
   "cell_type": "markdown",
   "id": "066f7b85-30a4-4230-ad91-8d079aaf434f",
   "metadata": {},
   "source": [
    "# Exercice Learning curve #"
   ]
  },
  {
   "cell_type": "code",
   "execution_count": null,
   "id": "26323654-0079-4d85-bf6d-4280e608f6e8",
   "metadata": {},
   "outputs": [],
   "source": [
    "import numpy as np\n",
    "import pandas as pd\n",
    "import sklearn\n",
    "import seaborn as sns\n",
    "import matplotlib.pyplot as plt\n",
    "sns.set_style('whitegrid')\n",
    "%matplotlib inline\n",
    "import sys\n",
    "import matplotlib\n",
    "\n",
    "print('python:',sys.version)\n",
    "print('Numpy:',np.__version__)\n",
    "print('Pandas:',pd.__version__)\n",
    "print('Scikitlearn:',sklearn.__version__)\n",
    "print('Seaborn: ',sns.__version__)\n",
    "print('matplotlib:',matplotlib.__version__)\n"
   ]
  },
  {
   "cell_type": "code",
   "execution_count": null,
   "id": "6c0542e6-4cb9-47d4-a077-3f8b55080b84",
   "metadata": {},
   "outputs": [],
   "source": [
    "from sklearn.linear_model import Ridge\n",
    "from sklearn.model_selection import learning_curve\n",
    "from sklearn.model_selection import ShuffleSplit\n",
    "\n",
    "Boston=pd.read_csv('Data/housing.data',delim_whitespace=True, header=None)\n",
    "Boston.columns=['CRIM','ZN','INDUS','CHAS','NOX','RM','AGE','DIS','RAD','TAX',\n",
    "                'PTRATIO','B','LSTAT','MEDV']\n",
    "Boston\n",
    "Boston.describe()\n"
   ]
  },
  {
   "cell_type": "code",
   "execution_count": null,
   "id": "ca9f1a77-1702-4011-a5e6-3f48b8499671",
   "metadata": {},
   "outputs": [],
   "source": [
    "#Pairplot\n",
    "sns.pairplot(Boston, height=1.2)\n",
    "plt.show()\n"
   ]
  },
  {
   "cell_type": "code",
   "execution_count": null,
   "id": "3b1f5b74-1730-4b19-b5a7-1a4c071a483a",
   "metadata": {},
   "outputs": [],
   "source": [
    "pd.options.display.float_format='{:,.3f}'.format\n",
    "Boston.corr()\n",
    "\n",
    "plt.figure(figsize=(16,10))\n",
    "sns.heatmap(Boston.corr(), annot=True)\n",
    "plt.show()\n"
   ]
  },
  {
   "cell_type": "markdown",
   "id": "8b4b722f-aa1b-443d-bc30-0c083cc5c55e",
   "metadata": {},
   "source": [
    "# RM Regression #"
   ]
  },
  {
   "cell_type": "code",
   "execution_count": null,
   "id": "24defa3a-77b5-43af-9ab8-2e1418d370de",
   "metadata": {},
   "outputs": [],
   "source": [
    "X=np.array(Boston['RM'])\n",
    "Y=np.array(Boston['MEDV'])\n",
    "\n",
    "plt.scatter(X, Y, color='blue', marker='o',linewidth=2)\n",
    "plt.xlabel('RM')\n",
    "plt.ylabel('MEDV')\n",
    "plt.legend(loc='lower right')\n",
    "plt.show()\n"
   ]
  },
  {
   "cell_type": "code",
   "execution_count": null,
   "id": "f6d6c02a-1ff4-40ec-a2f1-8c274babde69",
   "metadata": {},
   "outputs": [],
   "source": [
    "from sklearn.linear_model import Ridge\n",
    "\n",
    "\n",
    "ridge_mod=Ridge(alpha=0.5, fit_intercept=True)#, normalize=True)\n",
    "ridge_mod.fit(X.reshape(-1,1), Y)\n",
    "ridge_mod_pred=ridge_mod.predict(X.reshape(-1,1))\n",
    "\n",
    "plt.figure(figsize=(10,8))\n",
    "plt.scatter(X, Y, color='red', label= 'values')\n",
    "plt.plot(X,ridge_mod_pred, color='blue',label='Ridge' )\n",
    "plt.xlabel('RM')\n",
    "plt.ylabel('MEDV')\n",
    "plt.legend(loc='lower right')\n",
    "plt.show()\n",
    "print(f'y={ridge_mod.coef_}x+{ridge_mod.intercept_:.3f}')\n"
   ]
  },
  {
   "cell_type": "code",
   "execution_count": null,
   "id": "c3980824-a4f2-4c0d-ab4f-10ba457182c1",
   "metadata": {},
   "outputs": [],
   "source": [
    "from sklearn.metrics import mean_squared_error\n",
    "from sklearn.model_selection import train_test_split\n",
    "\n",
    "X_train,X_test, Y_train ,Y_test =train_test_split(X,Y, test_size=0.3,\n",
    "                 train_size=0.7, random_state=None,\n",
    "                 shuffle=True, stratify=None)\n",
    "#Train:\n",
    "ridge_train=Ridge(alpha=0.5, fit_intercept=True)\n",
    "ridge_train.fit(X_train.reshape(-1,1), Y_train)\n",
    "y_train_pred=ridge_train.predict(X_train.reshape(-1,1))\n",
    "\n",
    "#Test:\n",
    "ridge_test=Ridge(alpha=0.5, fit_intercept=True)\n",
    "ridge_test.fit(X_test.reshape(-1,1), Y_test)\n",
    "y_test_pred=ridge_test.predict(X_test.reshape(-1,1))\n",
    "X_train"
   ]
  },
  {
   "cell_type": "code",
   "execution_count": null,
   "id": "d68310f8-fd15-43d9-983e-a7183b2cc1a7",
   "metadata": {},
   "outputs": [],
   "source": [
    "plt.figure(figsize=(10,7))\n",
    "plt.scatter(X_train, Y_train, color='red', label= 'Train')\n",
    "plt.plot(X_train,y_train_pred, color='blue',label='Ridge' )\n",
    "plt.xlabel('RM')\n",
    "plt.ylabel('MEDV')\n",
    "plt.legend(loc='lower right')\n",
    "plt.show()\n",
    "print(f'ytrain={ridge_train.coef_}x+{ridge_train.intercept_}')\n",
    "print(f'MSE= {mean_squared_error(Y_train,y_train_pred):.3f}\\n')\n",
    "plt.figure(figsize=(6,4))\n",
    "plt.scatter(X_test, Y_test, color='red', label= 'Test')\n",
    "plt.plot(X_test,y_test_pred, color='blue',label='Ridge' )\n",
    "plt.xlabel('RM')\n",
    "plt.ylabel('MEDV')\n",
    "plt.legend(loc='lower right')\n",
    "plt.show()\n",
    "print(f'ytest={ridge_test.coef_}x+{ridge_test.intercept_}')\n",
    "print(f'MSE= {mean_squared_error(Y_test,y_test_pred):.3f}')\n"
   ]
  },
  {
   "cell_type": "code",
   "execution_count": null,
   "id": "e942eb39-13d7-4b96-81f5-19583df0890e",
   "metadata": {},
   "outputs": [],
   "source": [
    "from sklearn.linear_model import Ridge\n",
    "from sklearn.model_selection import learning_curve\n",
    "\n",
    "pd.options.display.float_format='{:,.2f}'.format\n",
    "features=['RM', 'PTRATIO' ,'LSTAT']\n",
    "x=Boston[features]\n",
    "y=Y\n",
    "train_sizes, train_scores, validation_scores = learning_curve(\n",
    "    Ridge(),x,y,train_sizes=[10,50,100,150,200,250,350,400],cv = 5,\n",
    "    scoring = 'neg_mean_squared_error')\n",
    "print('Training scores:\\n\\n',train_scores)\n",
    "print('\\nValidation scores:\\n\\n', validation_scores)\n"
   ]
  },
  {
   "cell_type": "code",
   "execution_count": null,
   "id": "825599d9-ebb7-44cb-90a1-322ba36ea458",
   "metadata": {},
   "outputs": [],
   "source": [
    "train_scores_mean = -train_scores.mean(axis = 1)\n",
    "validation_scores_mean = -validation_scores.mean(axis = 1)\n",
    "MSE_p=mean_squared_error(Y_train,y_train_pred)\n",
    "\n",
    "plt.plot(train_sizes, train_scores_mean, label = 'Training error')\n",
    "plt.plot(train_sizes, validation_scores_mean, label = 'Validation error')\n",
    "plt.plot([0,100,500],[MSE_p,MSE_p,MSE_p], label='Desired', color='r')\n",
    "plt.ylabel('MSE', fontsize = 14)\n",
    "plt.xlabel('Training set size', fontsize = 14)\n",
    "plt.title('Learning curves for a Ridge Regression model', fontsize = 18, y = 1.03)\n",
    "plt.legend()\n",
    "plt.ylim(0,80)\n"
   ]
  },
  {
   "cell_type": "markdown",
   "id": "213640e4-29e2-4247-a1ef-cdcae7cef1f7",
   "metadata": {},
   "source": [
    "### The high bias learning curve (fig1) ###\n",
    "<ul>\n",
    "<li> Low training and test accuracy /score , underfits the training data\n",
    "<li> The actual performance (accuracy or R²) level is far from the desired level of performance \n",
    "</ul>\n",
    "address by:\n",
    "<ul>\n",
    "<li> Increase the number of parameters, adding or creating new feature. </li>\n",
    "<li> Decrese the regularisation. </li>\n",
    "</ul>\n"
   ]
  },
  {
   "cell_type": "markdown",
   "id": "cad3c016-aeb6-4b52-93c3-b87e8d42b819",
   "metadata": {},
   "source": [
    "# PTRATIO regression # "
   ]
  },
  {
   "cell_type": "code",
   "execution_count": null,
   "id": "ffeb73f9-4544-4b7f-a2b1-d0bb1e213ecd",
   "metadata": {},
   "outputs": [],
   "source": [
    "X=np.array(Boston['PTRATIO'])\n",
    "Y=np.array(Boston['MEDV'])\n",
    "\n",
    "plt.scatter(X, Y, color='blue', marker='o',linewidth=1)\n",
    "plt.xlabel('PTRATIO')\n",
    "plt.ylabel('MEDV')\n",
    "plt.legend(loc='lower right')\n",
    "plt.show()\n",
    "Boston['PTRATIO'].describe()\n"
   ]
  },
  {
   "cell_type": "code",
   "execution_count": null,
   "id": "50b92d68-efe1-4ec5-b73f-a5443a87a803",
   "metadata": {},
   "outputs": [],
   "source": [
    "from sklearn.tree import DecisionTreeRegressor\n",
    "from sklearn.metrics import mean_squared_error\n",
    "\n",
    "Y=Boston['MEDV']\n",
    "X=Boston['PTRATIO'].values\n",
    "tree=DecisionTreeRegressor(max_depth=2)\n",
    "tree.fit(X.reshape(-1,1),Y) \n",
    "sort_idx=X.flatten().argsort()\n",
    "plt.figure(figsize=(10,8))\n",
    "plt.scatter(X[sort_idx],Y[sort_idx], c='b')\n",
    "plt.plot(X[sort_idx],tree.predict(X[sort_idx].reshape(-1,1)), color='r', linewidth=2)\n",
    "plt.xlabel('PTRATIO')\n",
    "plt.ylabel('MEDV')\n",
    "\n",
    "y_pred=tree.predict(X.reshape(-1,1))\n",
    "print(f'MSE= {mean_squared_error(Y,y_pred):.3f}')"
   ]
  },
  {
   "cell_type": "code",
   "execution_count": null,
   "id": "136764e9-88cd-4475-afcc-305829e35eaf",
   "metadata": {},
   "outputs": [],
   "source": [
    "# Visualising the Decision Tree Regression Results \n",
    "\n",
    "plt.scatter(X,Y, color = 'blue')\n",
    "plt.scatter(X, y_pred, color = 'green')\n",
    "X_grid = np.arange(min(X), max(X), 0.01)\n",
    "X_grid = X_grid.reshape((len(X_grid), 1))\n",
    "plt.plot(X_grid, tree.predict(X_grid), color = 'red')\n",
    "plt.title('Decision Tree Regression')\n",
    "plt.xlabel('PTRATIO')\n",
    "plt.ylabel('MEDV')\n",
    "plt.show()\n",
    "print(f'MSE= {mean_squared_error(Y,y_pred):.3f}')\n"
   ]
  },
  {
   "cell_type": "code",
   "execution_count": null,
   "id": "c59a4db8-90dd-4da5-8b13-7fec0adeb132",
   "metadata": {},
   "outputs": [],
   "source": [
    "from sklearn.model_selection import learning_curve\n",
    "\n",
    "pd.options.display.float_format='{:,.3f}'.format\n",
    "features=['PTRATIO']\n",
    "x=Boston[features]\n",
    "y=Y\n",
    "train_sizes, train_scores, validation_scores = learning_curve(\n",
    "    DecisionTreeRegressor(),x,y,train_sizes=[10,50,100,150,200,250,350,400],cv = 5,\n",
    "    scoring = 'neg_mean_squared_error')\n",
    "print('Training scores:\\n\\n',train_scores)\n",
    "print('\\nValidation scores:\\n\\n', validation_scores)\n"
   ]
  },
  {
   "cell_type": "code",
   "execution_count": null,
   "id": "519adaff-417c-49a6-9ebf-fffbaa1ddc08",
   "metadata": {},
   "outputs": [],
   "source": [
    "train_scores_mean = -train_scores.mean(axis = 1)\n",
    "validation_scores_mean = -validation_scores.mean(axis = 1)\n",
    "MSE_p=mean_squared_error(Y,y_pred)\n",
    "\n",
    "plt.plot(train_sizes, train_scores_mean, label = 'Training error')\n",
    "plt.plot(train_sizes, validation_scores_mean, label = 'Validation error')\n",
    "plt.plot([0,100,500],[MSE_p,MSE_p,MSE_p], label='Desired', color='r')\n",
    "plt.ylabel('MSE', fontsize = 14)\n",
    "plt.xlabel('Training set size', fontsize = 14)\n",
    "plt.title('Learning curves for Decision Tree model', fontsize = 18, y = 1.03)\n",
    "plt.legend()\n",
    "plt.ylim(0,200)\n"
   ]
  },
  {
   "cell_type": "markdown",
   "id": "7824a009-fa48-48a9-9540-514fa01649e5",
   "metadata": {},
   "source": [
    "# LSTAT Regression #"
   ]
  },
  {
   "cell_type": "code",
   "execution_count": null,
   "id": "b8409862-bcd7-49b7-b610-b9339375858f",
   "metadata": {},
   "outputs": [],
   "source": [
    "X=np.array(Boston['LSTAT'])\n",
    "Y=np.array(Boston['MEDV'])\n",
    "\n",
    "plt.scatter(X, Y, color='blue', marker='o',linewidth=2)\n",
    "plt.xlabel('LSTAT')\n",
    "plt.ylabel('MEDV')\n",
    "plt.legend(loc='lower right')\n",
    "plt.show()\n"
   ]
  },
  {
   "cell_type": "code",
   "execution_count": null,
   "id": "85c0edee-220e-40a3-9723-fb62c7fd5d4e",
   "metadata": {},
   "outputs": [],
   "source": [
    "from sklearn.preprocessing import PolynomialFeatures\n",
    "from sklearn.linear_model import LinearRegression\n",
    "from sklearn.metrics import r2_score\n",
    "from sklearn.metrics import mean_squared_error\n",
    "\n",
    "poly_reg=PolynomialFeatures(degree=3)\n",
    "X_poly=poly_reg.fit_transform(X.reshape(-1,1))\n",
    "lr_r=LinearRegression()\n",
    "lr_r.fit(X_poly,Y.reshape(-1,1))\n",
    "Y_pred=lr_r.predict(X_poly)\n",
    "\n",
    "plt.figure(figsize=(10,8))\n",
    "plt.scatter(X,Y,label='Distribution',c='#14047b' )\n",
    "plt.scatter(X,Y_pred,label='Regression', c='red' )\n",
    "plt.xlabel('LSTAT')\n",
    "plt.ylabel('MEDV')\n",
    "plt.legend(loc='lower right')\n",
    "plt.show()\n",
    "print(f'model Coef={lr_r.coef_},\\n R² ={r2_score(Y,Y_pred):.3f},\\n MSE={mean_squared_error(Y,Y_pred):.3f}')\n"
   ]
  },
  {
   "cell_type": "code",
   "execution_count": null,
   "id": "5b2c3ca8-1f90-4416-a059-2e616ab289db",
   "metadata": {},
   "outputs": [],
   "source": [
    "from sklearn.model_selection import learning_curve\n",
    "from sklearn.linear_model import RidgeCV\n",
    "\n",
    "pd.options.display.float_format='{:,.3f}'.format\n",
    "features=['LSTAT']\n",
    "x=Boston[features]\n",
    "y=Y\n",
    "model=RidgeCV() #PolynomialFeatures(degree=3) #LinearRegression() RidgeCV()\n",
    "train_sizes, train_scores, validation_scores = learning_curve(\n",
    "    model,x,y,train_sizes=[10,50,100,150,200,250,350,400],cv = 5,\n",
    "    scoring = 'r2')\n",
    "print('Training scores:\\n\\n',train_scores)\n",
    "print('\\nValidation scores:\\n\\n', validation_scores)\n"
   ]
  },
  {
   "cell_type": "code",
   "execution_count": null,
   "id": "c879383b-8cf8-49fe-a39d-22213d64845d",
   "metadata": {},
   "outputs": [],
   "source": [
    "train_scores_mean = train_scores.mean(axis = 1)\n",
    "validation_scores_mean = validation_scores.mean(axis = 1)\n",
    "MSE_p=r2_score(Y,Y_pred)\n",
    "\n",
    "plt.plot(train_sizes, train_scores_mean, label = 'Training error')\n",
    "plt.plot(train_sizes, validation_scores_mean, label = 'Validation error')\n",
    "plt.plot([0,100,500],[MSE_p,MSE_p,MSE_p], label='Desired', color='r')\n",
    "plt.ylabel('R²', fontsize = 14)\n",
    "plt.xlabel('Training set size', fontsize = 14)\n",
    "plt.title('Learning curves for Polynomial model', fontsize = 18, y = 1.03)\n",
    "plt.legend(loc='lower right')\n",
    "plt.ylim(-0.25,1)\n",
    "plt.show()\n"
   ]
  },
  {
   "cell_type": "markdown",
   "id": "00d8e8ab-f0c4-4b05-8019-653977743bd3",
   "metadata": {},
   "source": [
    "### The high bias learning curve (fig1) ###\n",
    "<ul>\n",
    "<li> Low training and test accuracy /score , underfits the training data\n",
    "<li> The actual performance (accuracy or R²) level is far from the desired level of performance \n",
    "</ul>\n",
    "address by:\n",
    "<ul>\n",
    "<li> Increase the number of parameters, adding or creating new feature. </li>\n",
    "<li> Decrese the regularisation. </li>\n",
    "</ul>\n"
   ]
  },
  {
   "cell_type": "markdown",
   "id": "c49e75bb-33e5-448f-a8cf-eac847ad048a",
   "metadata": {},
   "source": [
    "# Validation Curve #"
   ]
  },
  {
   "cell_type": "code",
   "execution_count": null,
   "id": "35abeec0-1062-4e6d-aee1-8c5ced566cbc",
   "metadata": {},
   "outputs": [],
   "source": [
    "# work with features with high correlation\n",
    "\n",
    "Boston=pd.read_csv('Data/housing.data',delim_whitespace=True, header=None)\n",
    "Boston.columns=['CRIM','ZN','INDUS','CHAS','NOX','RM','AGE','DIS','RAD','TAX',\n",
    "                'PTRATIO','B','LSTAT','MEDV']\n",
    "\n",
    "Boston_df=Boston.drop(columns=['ZN', 'CHAS', 'AGE', 'DIS', 'RAD', 'MEDV'])\n",
    "target=Boston['MEDV'].values\n",
    "Boston_df\n"
   ]
  },
  {
   "cell_type": "code",
   "execution_count": null,
   "id": "57bebdb7-19c2-48e0-b699-17e2944f5ce0",
   "metadata": {},
   "outputs": [],
   "source": [
    "#Learning curve for Boston_df\n",
    "from sklearn.model_selection import learning_curve\n",
    "from sklearn.linear_model import RidgeCV\n",
    "from sklearn.model_selection import ShuffleSplit\n",
    "\n",
    "pd.options.display.float_format='{:,.3f}'.format\n",
    "\n",
    "x=Boston_df\n",
    "y=target\n",
    "model=RidgeCV() #MultinomialNB()  #LinearRegression() RidgeCV() KMeans() LogisticRegression() GaussianNB\n",
    "cv= ShuffleSplit(n_splits=100, test_size=0.3, random_state=0)\n",
    "train_sizes, train_scores, validation_scores = learning_curve(\n",
    "    model,x,y,cv = cv,scoring = 'neg_mean_squared_error') #train_sizes=[10,50,100,150,200,250,350,400]\n",
    "print('Training scores:\\n\\n',train_scores)\n",
    "print('\\nValidation scores:\\n\\n', validation_scores)\n"
   ]
  },
  {
   "cell_type": "code",
   "execution_count": null,
   "id": "4a913db6-195e-4fad-91de-51cef4bf3fcc",
   "metadata": {},
   "outputs": [],
   "source": [
    "train_scores_mean = -train_scores.mean(axis = 1)\n",
    "validation_scores_mean = -validation_scores.mean(axis = 1)\n",
    "#MSE_p=mean_squared_error(Y,Y_pred)\n",
    "\n",
    "plt.plot(train_sizes, train_scores_mean, label = 'Training error')\n",
    "plt.plot(train_sizes, validation_scores_mean, label = 'Validation error')\n",
    "#plt.plot([0,100,500],[MSE_p,MSE_p,MSE_p], label='Desired', color='r')\n",
    "plt.ylabel('MSE', fontsize = 14)\n",
    "plt.xlabel('Training set size', fontsize = 14)\n",
    "plt.title('Learning curves With Ridge regression', fontsize = 18, y = 1.03)\n",
    "plt.legend(loc='lower right')\n",
    "plt.ylim(20,35)\n",
    "plt.show()\n"
   ]
  },
  {
   "cell_type": "code",
   "execution_count": null,
   "id": "eec723bb-cd79-4ed0-83b4-4fd3bcf6ca80",
   "metadata": {},
   "outputs": [],
   "source": [
    "from sklearn.linear_model import Ridge\n",
    "from sklearn.model_selection import validation_curve\n",
    "\n",
    "np.random.seed(0)\n",
    "X=Boston_df\n",
    "Y=target #Boston['MEDV']\n",
    "indices=np.arange(Y.all())#.shape(0))\n",
    "np.random.shuffle(indices)\n",
    "#X,Y=X[indices] , Y[indices]\n",
    "param_name='alpha'\n",
    "param_range=[-5,100,150,200,250,300,350,400,500,600]\n",
    "#param_range=np.logspace(-5,2,10)\n",
    "estim=Ridge()\n",
    "train_scores, valid_scores=validation_curve(estim, X, Y,param_name='alpha',\n",
    "                                            param_range=param_range,\n",
    "                                            scoring=\"neg_mean_squared_error\")\n",
    "print(f'Train Scores= \\n{train_scores}\\n\\n Validation Scores= \\n{valid_scores}\\n')\n"
   ]
  },
  {
   "cell_type": "code",
   "execution_count": null,
   "id": "60193f71-deef-41bc-9d63-6ba41ce3b07a",
   "metadata": {},
   "outputs": [],
   "source": [
    "train_mean = np.mean(-train_scores, axis=1)\n",
    "test_mean = np.mean(-valid_scores, axis=1)\n",
    "\n",
    "train_std = np.std(-train_scores, axis=1)\n",
    "test_std = np.std(-valid_scores, axis=1)\n",
    "#\n",
    "# Plot the model scores (accuracy) against the paramater range\n",
    "plt.figure(figsize=(10,6))\n",
    "plt.plot(param_range, train_mean,\n",
    "         marker='o', markersize=5,\n",
    "         color='blue', label='Training Accuracy')\n",
    "plt.plot(param_range, test_mean,\n",
    "         marker='o', markersize=5,\n",
    "         color='green', label='Validation Accuracy')\n",
    "plt.title('Validation Curve of Boston_df / Ridge Regression')\n",
    "plt.legend(loc='best')\n",
    "plt.xlabel('Parameter C')\n",
    "plt.ylabel('Accuracy')\n",
    "#plt.xlim(0,600)\n",
    "plt.show()\n",
    "print(f'overfitting model')"
   ]
  },
  {
   "cell_type": "code",
   "execution_count": null,
   "id": "4e2b7aca-fb58-4dfb-b6e4-f8aeca3e2fb9",
   "metadata": {},
   "outputs": [],
   "source": [
    "#Yellowbrick method\n",
    "\n",
    "from yellowbrick.model_selection import ValidationCurve\n",
    "\n",
    "Xyell=Boston['RM'].values\n",
    "Yyell=Boston['MEDV'].values\n",
    "\n",
    "\n",
    "viz = ValidationCurve(Ridge(), Xyell, Yyell,param_name,\n",
    "                      param_range, cv=10, scoring=\"neg_mean_squared_error\")\n",
    "\n",
    "# Fit and show the visualizer\n",
    "viz.fit(Xyell,Yyell)\n",
    "viz.show()\n"
   ]
  }
 ],
 "metadata": {
  "kernelspec": {
   "display_name": "Python 3 (ipykernel)",
   "language": "python",
   "name": "python3"
  },
  "language_info": {
   "codemirror_mode": {
    "name": "ipython",
    "version": 3
   },
   "file_extension": ".py",
   "mimetype": "text/x-python",
   "name": "python",
   "nbconvert_exporter": "python",
   "pygments_lexer": "ipython3",
   "version": "3.9.17"
  }
 },
 "nbformat": 4,
 "nbformat_minor": 5
}
