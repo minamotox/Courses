{
 "cells": [
  {
   "cell_type": "markdown",
   "metadata": {
    "id": "mbKgkusJud_0"
   },
   "source": [
    "# k-Nearest Neighbor (KNN)\n",
    "\n",
    "[wikipedia](https://en.wikipedia.org/wiki/K-nearest_neighbors_algorithm)"
   ]
  },
  {
   "cell_type": "markdown",
   "metadata": {
    "id": "5Hb07CrDud_7"
   },
   "source": [
    "Classification and Regression\n",
    "\n",
    "* Lazy learner\n",
    "\n",
    "  * [Instance Based](https://en.wikipedia.org/wiki/Instance-based_learning)\n",
    "  * Lazy because it does not try to learn a function from the training data.\n",
    "  * It memorise the pattern from the dataset\n",
    "\n",
    "\n",
    "* [Nonparametric model](http://blog.minitab.com/blog/adventures-in-statistics-2/choosing-between-a-nonparametric-test-and-a-parametric-test)\n",
    "\n",
    "  * distribution-free tests because no assumption of the data needing to follow a specific distribution\n",
    "  * [wikipedia](https://en.wikipedia.org/wiki/Nonparametric_statistics)\n",
    "  * Other examples - Decision Tree, Random Forest\n",
    "\n",
    "\n",
    "\n",
    "Used for:\n",
    "\n",
    "* Predict cancer is malignant or benign\n",
    "* Pattern recognition\n",
    "* Recommender Systems\n",
    "* Computer Vision\n",
    "* Gene Expression\n",
    "* Protein-Protein Interaction and 3D Structure Prediction\n",
    "\n",
    "\n"
   ]
  },
  {
   "cell_type": "markdown",
   "metadata": {
    "id": "YFaCRVtwud__"
   },
   "source": [
    "## Disadvantages\n",
    "\n",
    "* Not efficient on big data\n",
    "* Curse of dimensionality. Very susceptible to overfitting\n"
   ]
  },
  {
   "cell_type": "markdown",
   "metadata": {
    "id": "xFQm2KHLueAD"
   },
   "source": [
    "References:\n",
    "\n",
    "* [Wikipedia](https://en.wikipedia.org/wiki/K-nearest_neighbors_algorithm)\n",
    "\n",
    "* [Scikit-Learn Nearest Neighbours](http://scikit-learn.org/stable/modules/neighbors.html)\n",
    "\n",
    "* [Introduction to k-nearest neighbors : Simplified](https://www.analyticsvidhya.com/blog/2014/10/introduction-k-neighbours-algorithm-clustering/)\n",
    "\n",
    "* [Quora](https://www.quora.com/What-are-industry-applications-of-the-K-nearest-neighbor-algorithm)\n",
    "\n",
    "* [Kevin Zakka](https://kevinzakka.github.io/2016/07/13/k-nearest-neighbor/)\n",
    "\n",
    "* [CS231n CNN](http://cs231n.github.io/classification/#nn)\n",
    "\n",
    "* [A Detailed Introduction to K-Nearest Neighbor (KNN) Algorithm](https://saravananthirumuruganathan.wordpress.com/2010/05/17/a-detailed-introduction-to-k-nearest-neighbor-knn-algorithm/)\n",
    "\n",
    "* [Chris Albon](https://chrisalbon.com/)\n",
    "\n",
    "* [K-Nearest Neighbors for Machine Learning](https://machinelearningmastery.com/k-nearest-neighbors-for-machine-learning/)\n",
    "\n",
    "* [Introduction to Data Mining](http://www-users.cs.umn.edu/~kumar/dmbook/index.php)"
   ]
  },
  {
   "cell_type": "markdown",
   "metadata": {
    "id": "o7FwCey-ueAG"
   },
   "source": [
    "## Steps:\n",
    "\n",
    "* Choose the number of $k$\n",
    "* Select a distance metric\n",
    "* Find the k nearest neighbors of the sample\n",
    "* Assign the class label by majority vote\n",
    "\n"
   ]
  },
  {
   "cell_type": "markdown",
   "metadata": {
    "id": "gM0HPnJYueAH"
   },
   "source": [
    "***"
   ]
  },
  {
   "cell_type": "code",
   "execution_count": null,
   "metadata": {
    "id": "ZkOmSC9uueAK",
    "tags": []
   },
   "outputs": [],
   "source": [
    "import numpy as np\n",
    "import pandas as pd\n",
    "import sklearn\n",
    "import seaborn as sns\n",
    "import matplotlib.pyplot as plt\n",
    "sns.set_style('whitegrid')\n",
    "%matplotlib inline\n",
    "import sys\n",
    "import matplotlib\n",
    "\n",
    "print('python:',sys.version)\n",
    "print('Numpy:',np.__version__)\n",
    "print('Pandas:',pd.__version__)\n",
    "print('Scikitlearn:',sklearn.__version__)\n",
    "print('Seaborn: ',sns.__version__)\n",
    "print('matplotlib:',matplotlib.__version__)\n"
   ]
  },
  {
   "cell_type": "code",
   "execution_count": null,
   "metadata": {
    "id": "OdhbcXDJueAM"
   },
   "outputs": [],
   "source": [
    "df = sns.load_dataset('iris')\n",
    "df.head()\n"
   ]
  },
  {
   "cell_type": "code",
   "execution_count": null,
   "metadata": {
    "id": "zjahhPSZueAO",
    "tags": []
   },
   "outputs": [],
   "source": [
    "X_train = df[['petal_length', 'petal_width']]\n",
    "species_to_num = {'setosa':0,'versicolor': 1,'virginica': 2}\n",
    "y_train= df['species'].map(species_to_num)\n",
    "y_train\n"
   ]
  },
  {
   "cell_type": "code",
   "execution_count": null,
   "metadata": {
    "id": "Gt0b8CneueAR",
    "tags": []
   },
   "outputs": [],
   "source": [
    "from sklearn.neighbors import KNeighborsClassifier"
   ]
  },
  {
   "cell_type": "code",
   "execution_count": null,
   "metadata": {
    "id": "mtMnFAABueAT"
   },
   "outputs": [],
   "source": [
    "knn = KNeighborsClassifier(n_neighbors=50)\n",
    "knn.fit(X_train, y_train)"
   ]
  },
  {
   "cell_type": "code",
   "execution_count": null,
   "metadata": {
    "id": "yrM1kvTAueAU"
   },
   "outputs": [],
   "source": [
    "Xv = X_train.values.reshape(-1,1)\n",
    "h = 0.02\n",
    "x_min, x_max = Xv.min(), Xv.max() + 1\n",
    "y_min, y_max = y_train.min(), y_train.max() + 1\n",
    "xx, yy = np.meshgrid(np.arange(x_min, x_max, h),\n",
    "                     np.arange(y_min, y_max, h))\n",
    "\n",
    "z = knn.predict(np.c_[xx.ravel(), yy.ravel()])\n",
    "z = z.reshape(xx.shape)\n",
    "\n",
    "fig = plt.figure(figsize=(8,5))\n",
    "\n",
    "ax = plt.contourf(xx, yy, z, cmap = 'afmhot', alpha=0.3,\n",
    "                  );\n",
    "plt.scatter(X_train.values[:, 0], X_train.values[:, 1], c=y_train, s=40,\n",
    "            alpha=0.9, edgecolors='k')\n"
   ]
  },
  {
   "cell_type": "markdown",
   "metadata": {
    "id": "mGo0YQN1ueAW"
   },
   "source": [
    "***"
   ]
  },
  {
   "cell_type": "markdown",
   "metadata": {
    "id": "47tIZinXueAW"
   },
   "source": [
    "## DistanceMetric class documentation\n",
    "[scikit-learn]()\n",
    "\n",
    "Metrics intended for real-valued vector spaces:\n",
    "\n",
    "| identifier\t| class name\t| args\t| distance function |\n",
    "|:- |:- |:- |:- |\n",
    "|“euclidean” | \tEuclideanDistance  |   | $\\sqrt{\\sum(x - y)^2)}$  |  \n",
    "|“manhattan” | ManhattanDistance |  | $\\sum\\big|x - y\\big|$|  \n",
    "|“chebyshev” | ChebyshevDistance |  | max${\\big|x - y\\big|}$ |  \n",
    "|“minkowski” | MinkowskiDistance\t | p\t | $\\sum(\\big|x - y\\big|^p)^{\\frac{1}{p}}$     |\n",
    "|“wminkowski” | WMinkowskiDistance\t | p, w\t | $\\sum(w\\big|x - y\\big|^p)^{\\frac{1}{p}}$     |\n",
    "|“seuclidean” | SEuclideanDistance\t | V\t | $\\sqrt{\\sum\\frac{(x - y)^2}{V})}$     |\n",
    "\n",
    "Refer to documentation for more on\n",
    "* Metrics intended for two-dimensional vector spaces\n",
    "* Metrics intended for integer-valued vector spaces\n",
    "* Metrics intended for boolean-valued vector spaces\n",
    "\n",
    "* User-defined distance"
   ]
  },
  {
   "cell_type": "markdown",
   "metadata": {
    "id": "IPb8675NueAX"
   },
   "source": [
    "Source: [Rorasa's blog](https://rorasa.wordpress.com/2012/05/13/l0-norm-l1-norm-l2-norm-l-infinity-norm/)\n",
    "\n",
    "* Mathematically a norm is a total size or length of all vectors in a vector space or matrices.\n",
    "* For simplicity, we can say that the higher the norm is, the bigger the (value in) matrix or vector is.\n",
    "* Norm may come in many forms and many names, including these popular name: Euclidean distance, Mean-squared Error, etc.\n",
    "* Most of the time you will see the norm appears in a equation like this:\n",
    "\n",
    "$\\left \\| x \\right \\|$ where $x$ can be a vector or a matrix.\n",
    "\n",
    "* Euclidean distance\n",
    "\n",
    "  * Most common\n",
    "  * L2 norm of two vectors.\n",
    "  * In a bidimensional plane, the Euclidean distance refigures as the straight line connecting two points, and you calculate it as the square root of the sum of the squared difference between the elements of two vectors.\n",
    "  * The Euclidean distance between points (1,2) and (3,3) can be computed $\\sqrt{(1-3)^2+(2-3)^2}$, which results in a distance of about 2.236.\n",
    "\n",
    "\n",
    "* Manhattan distance\n",
    "  * Another useful measure is the Manhattan distance\n",
    "  * L1 norm of two vectors\n",
    "  * Summing the absolute value of the difference between the elements of the vectors.\n",
    "  * If the Euclidean distance marks the shortest route, the Manhattan distance marks the longest route, resembling the directions of a taxi moving in a city. (The distance is also known as taxicab or city-block distance.)\n",
    "  * For instance, the Manhattan distance between points (1,2) and (3,3) is abs(1–3) and abs(2–3), which results in 3.\n",
    "\n",
    "\n",
    "* Chebyshev distance\n",
    "  * Takes the maximum of the absolute difference between the elements of the vectors.\n",
    "  * It is a distance measure that can represent how a king moves in the game of chess or, in warehouse logistics, the operations required by an overhead crane to move a crate from one place to another.\n",
    "  * In machine learning, the Chebyshev distance can prove useful when you have many dimensions to consider and most of them are just irrelevant or redundant (in Chebyshev, you just pick the one whose absolute difference is the largest).\n",
    "  * In the example used in previous sections, the distance is simply 2, the max between abs(1–3) and abs(2–3).\n",
    "  "
   ]
  },
  {
   "cell_type": "markdown",
   "metadata": {
    "id": "W3TnUrnbueAY"
   },
   "source": [
    "# I. Project Breast Cancer detection in Wisconsin #\n"
   ]
  },
  {
   "cell_type": "code",
   "execution_count": null,
   "metadata": {
    "colab": {
     "base_uri": "https://localhost:8080/"
    },
    "executionInfo": {
     "elapsed": 17,
     "status": "ok",
     "timestamp": 1692108434426,
     "user": {
      "displayName": "Amine Hamouda",
      "userId": "06406683403374065678"
     },
     "user_tz": -60
    },
    "id": "khou0tidueAZ",
    "outputId": "041b24e9-8d86-4422-f8f2-dc1437503559"
   },
   "outputs": [],
   "source": [
    "import numpy as np\n",
    "import pandas as pd\n",
    "import sklearn\n",
    "import seaborn as sns\n",
    "import matplotlib.pyplot as plt\n",
    "sns.set_style('whitegrid')\n",
    "%matplotlib inline\n",
    "import sys\n",
    "import matplotlib\n",
    "\n",
    "print('python:',sys.version)\n",
    "print('Numpy:',np.__version__)\n",
    "print('Pandas:',pd.__version__)\n",
    "print('Scikitlearn:',sklearn.__version__)\n",
    "print('Seaborn: ',sns.__version__)\n",
    "print('matplotlib:',matplotlib.__version__)\n"
   ]
  },
  {
   "cell_type": "code",
   "execution_count": null,
   "metadata": {
    "executionInfo": {
     "elapsed": 289,
     "status": "ok",
     "timestamp": 1692109712185,
     "user": {
      "displayName": "Amine Hamouda",
      "userId": "06406683403374065678"
     },
     "user_tz": -60
    },
    "id": "n6U8dNVpueAa"
   },
   "outputs": [],
   "source": [
    "Cancer = pd.read_csv(r'Data\\breast-cancer-wisconsin.csv')"
   ]
  },
  {
   "cell_type": "code",
   "execution_count": null,
   "metadata": {
    "id": "R0mjQmX3ueAb"
   },
   "outputs": [],
   "source": [
    "Cancer.info()\n",
    "Cancer.describe()\n",
    "#Cancer['diagnosis'].value_counts()\n"
   ]
  },
  {
   "cell_type": "code",
   "execution_count": null,
   "metadata": {
    "colab": {
     "base_uri": "https://localhost:8080/"
    },
    "executionInfo": {
     "elapsed": 299,
     "status": "ok",
     "timestamp": 1692109742035,
     "user": {
      "displayName": "Amine Hamouda",
      "userId": "06406683403374065678"
     },
     "user_tz": -60
    },
    "id": "wMp4lDyCueAb",
    "outputId": "61916314-f1d5-403d-eb6e-18807dbdaccd"
   },
   "outputs": [],
   "source": [
    "col_=Cancer.columns\n",
    "col=list(col_)\n",
    "col\n"
   ]
  },
  {
   "cell_type": "code",
   "execution_count": null,
   "metadata": {
    "colab": {
     "base_uri": "https://localhost:8080/",
     "height": 707
    },
    "executionInfo": {
     "elapsed": 5273,
     "status": "ok",
     "timestamp": 1692109750424,
     "user": {
      "displayName": "Amine Hamouda",
      "userId": "06406683403374065678"
     },
     "user_tz": -60
    },
    "id": "nYbMP1R_ueAc",
    "outputId": "e0919033-a884-470a-d351-5c4a6a1c65c3"
   },
   "outputs": [],
   "source": [
    "plt.figure(figsize=(20, 10))\n",
    "sns.heatmap(Cancer[col].corr(), annot=True, fmt='.3f')\n"
   ]
  },
  {
   "cell_type": "markdown",
   "metadata": {
    "id": "fvOGae0MueAd"
   },
   "source": [
    "## 1) Preprocessing ##"
   ]
  },
  {
   "cell_type": "code",
   "execution_count": null,
   "metadata": {
    "colab": {
     "base_uri": "https://localhost:8080/"
    },
    "executionInfo": {
     "elapsed": 361,
     "status": "ok",
     "timestamp": 1692109764572,
     "user": {
      "displayName": "Amine Hamouda",
      "userId": "06406683403374065678"
     },
     "user_tz": -60
    },
    "id": "5W1_J5elueAd",
    "outputId": "7b7a3793-b0f0-44c5-dca2-05693e7ba0ce"
   },
   "outputs": [],
   "source": [
    "\n",
    "col_categorical=list(set(col).difference(Cancer.describe()))\n",
    "col_categorical\n"
   ]
  },
  {
   "cell_type": "code",
   "execution_count": null,
   "metadata": {
    "executionInfo": {
     "elapsed": 17,
     "status": "ok",
     "timestamp": 1692109764574,
     "user": {
      "displayName": "Amine Hamouda",
      "userId": "06406683403374065678"
     },
     "user_tz": -60
    },
    "id": "HhwBVbvkueAe"
   },
   "outputs": [],
   "source": [
    "#Cancer.drop(['Unnamed:32','id'],axis=1)\n",
    "key={'B':0, 'M':1}\n",
    "Cancer['Diag']=Cancer['diagnosis'].map(key)\n"
   ]
  },
  {
   "cell_type": "code",
   "execution_count": null,
   "metadata": {
    "colab": {
     "base_uri": "https://localhost:8080/",
     "height": 505
    },
    "executionInfo": {
     "elapsed": 359,
     "status": "ok",
     "timestamp": 1692109764917,
     "user": {
      "displayName": "Amine Hamouda",
      "userId": "06406683403374065678"
     },
     "user_tz": -60
    },
    "id": "EwtRiTjIueAf",
    "outputId": "e77a789d-12ed-4f06-c93d-c39ce6b79fa7"
   },
   "outputs": [],
   "source": [
    "Cancer2=Cancer.drop(['Unnamed: 32', 'id', 'diagnosis'], axis=1)\n",
    "Cancer2\n"
   ]
  },
  {
   "cell_type": "code",
   "execution_count": null,
   "metadata": {
    "colab": {
     "base_uri": "https://localhost:8080/",
     "height": 411
    },
    "executionInfo": {
     "elapsed": 311,
     "status": "ok",
     "timestamp": 1692110690828,
     "user": {
      "displayName": "Amine Hamouda",
      "userId": "06406683403374065678"
     },
     "user_tz": -60
    },
    "id": "UHzC_ncEueAf",
    "outputId": "77eea537-504d-4d7c-fa47-afd2a82e3028"
   },
   "outputs": [],
   "source": [
    "X=Cancer2.iloc[:,:30]\n",
    "Y=Cancer2['Diag']\n",
    "X.describe()\n"
   ]
  },
  {
   "cell_type": "code",
   "execution_count": null,
   "metadata": {
    "colab": {
     "base_uri": "https://localhost:8080/",
     "height": 411
    },
    "executionInfo": {
     "elapsed": 292,
     "status": "ok",
     "timestamp": 1692110713710,
     "user": {
      "displayName": "Amine Hamouda",
      "userId": "06406683403374065678"
     },
     "user_tz": -60
    },
    "id": "VT48lVafueAg",
    "outputId": "a92153ad-6c9a-4ab9-90d8-49f53fbf8c18"
   },
   "outputs": [],
   "source": [
    "from sklearn.preprocessing import StandardScaler\n",
    "\n",
    "scale = pd.DataFrame(StandardScaler().fit_transform(X),columns=X.columns)\n",
    "scale.describe()\n"
   ]
  },
  {
   "cell_type": "code",
   "execution_count": null,
   "metadata": {
    "executionInfo": {
     "elapsed": 284,
     "status": "ok",
     "timestamp": 1692110982478,
     "user": {
      "displayName": "Amine Hamouda",
      "userId": "06406683403374065678"
     },
     "user_tz": -60
    },
    "id": "iSVCdiJZueAg"
   },
   "outputs": [],
   "source": [
    "from sklearn.model_selection import train_test_split\n",
    "\n",
    "X_train,X_test,Y_train, Y_test=train_test_split(scale,Y,random_state=69,test_size=0.3)\n"
   ]
  },
  {
   "cell_type": "code",
   "execution_count": null,
   "metadata": {
    "id": "5NZp0Eaf3xWz"
   },
   "outputs": [],
   "source": [
    "np.info(Y_test)\n",
    "#X_train\n",
    "Y_test\n"
   ]
  },
  {
   "cell_type": "code",
   "execution_count": null,
   "metadata": {
    "executionInfo": {
     "elapsed": 249,
     "status": "ok",
     "timestamp": 1692112549856,
     "user": {
      "displayName": "Amine Hamouda",
      "userId": "06406683403374065678"
     },
     "user_tz": -60
    },
    "id": "7ErvgSbvueAi"
   },
   "outputs": [],
   "source": [
    "from sklearn import preprocessing\n",
    "from sklearn.model_selection import cross_val_score, cross_val_predict\n",
    "from sklearn.metrics import accuracy_score, classification_report\n",
    "from sklearn.metrics import confusion_matrix, roc_auc_score\n",
    "\n",
    "def print_score(clf, X_train, X_test, Y_train, Y_test, train=True):\n",
    "    \"Print the accuracy score, Classification report and confusion matrix\"\n",
    "    LB=preprocessing.LabelBinarizer()\n",
    "    LB.fit(Y_train)\n",
    "    if train:\n",
    "        \"Train performance\"\n",
    "        res=clf.predict(X_train)\n",
    "        print(f'Train Results:\\n')\n",
    "        print(f'Accuracy Score: %.4f \\n' % (accuracy_score(Y_train,res)))\n",
    "        print(f'ROC AUC Score:%.4f'%(roc_auc_score(LB.transform(Y_train),LB.transform(res))))\n",
    "        print(f'Classification report:\\n {classification_report(Y_train,res)}')\n",
    "        print(f'Confusion Matrix Score: {confusion_matrix(Y_train,res)}')\n",
    "\n",
    "        res=cross_val_score(clf,X_train, Y_train, cv=10, scoring='accuracy')\n",
    "        print('Cross Val. average accuracy \\t: %.4f'%(np.mean(res)))\n",
    "        print('Cross Val. accuracy SD \\t: %.4f '% (np.std(res)))\n",
    "\n",
    "\n",
    "    elif train==False:\n",
    "        \"Test performance\"\n",
    "        res_test=clf.predict(X_test)\n",
    "        print(f'Test Results:\\n')\n",
    "        print('Accuracy Score: %.4f \\n'%(accuracy_score(Y_test,res_test)))\n",
    "        print('ROC AUC Score: %.4f\\n'%(roc_auc_score(Y_test,res_test)))\n",
    "        print(f'Classification report:\\n {classification_report(Y_test,res_test)}')\n",
    "        print(f'Confusion Matrix Score: {confusion_matrix(Y_test,res_test)}')\n",
    "        print('Cross Val. average accuracy \\t: %.4f'%(np.mean(res_test)))\n",
    "        print('Cross Val. average accuracy SD \\t: %.4f '% (np.std(res_test)))\n",
    "\n",
    "\n"
   ]
  },
  {
   "cell_type": "markdown",
   "metadata": {
    "id": "Colq3gRMueAi"
   },
   "source": [
    "## 2) Model Fitting ##"
   ]
  },
  {
   "cell_type": "markdown",
   "metadata": {
    "id": "1DnFM-Gox8Mp"
   },
   "source": [
    "### a \\ Decision Tree: ###"
   ]
  },
  {
   "cell_type": "code",
   "execution_count": null,
   "metadata": {
    "colab": {
     "base_uri": "https://localhost:8080/",
     "height": 74
    },
    "executionInfo": {
     "elapsed": 301,
     "status": "ok",
     "timestamp": 1692112567567,
     "user": {
      "displayName": "Amine Hamouda",
      "userId": "06406683403374065678"
     },
     "user_tz": -60
    },
    "id": "TjQqGparueAj",
    "outputId": "638a5120-e4be-4f9c-8a32-f4e55bf68adb"
   },
   "outputs": [],
   "source": [
    "from sklearn.tree import DecisionTreeClassifier\n",
    "\n",
    "DT_clf=DecisionTreeClassifier(random_state=24)\n",
    "DT_clf.fit(X_train, Y_train.ravel())\n"
   ]
  },
  {
   "cell_type": "code",
   "execution_count": null,
   "metadata": {
    "colab": {
     "base_uri": "https://localhost:8080/"
    },
    "executionInfo": {
     "elapsed": 960,
     "status": "ok",
     "timestamp": 1692112859185,
     "user": {
      "displayName": "Amine Hamouda",
      "userId": "06406683403374065678"
     },
     "user_tz": -60
    },
    "id": "9BewfZg3ueAk",
    "outputId": "cd871fbc-ac93-48f6-8f34-2cf130eb1d83"
   },
   "outputs": [],
   "source": [
    "print(f' {print_score(DT_clf, X_train, X_test, Y_train.ravel(), Y_test.ravel(), train=True)}')\n",
    "print(f'\\n ---------------------------------------\\n')\n",
    "print(f'{print_score(DT_clf, X_train, X_test, Y_train.ravel(), Y_test.ravel(), train=False)}')\n"
   ]
  },
  {
   "cell_type": "markdown",
   "metadata": {
    "id": "66avp3j4wW9B"
   },
   "source": [
    "### b \\ Random Forest: ###"
   ]
  },
  {
   "cell_type": "code",
   "execution_count": null,
   "metadata": {
    "colab": {
     "base_uri": "https://localhost:8080/",
     "height": 74
    },
    "executionInfo": {
     "elapsed": 318,
     "status": "ok",
     "timestamp": 1692112580699,
     "user": {
      "displayName": "Amine Hamouda",
      "userId": "06406683403374065678"
     },
     "user_tz": -60
    },
    "id": "js02-A2iwg30",
    "outputId": "ed40cde3-4e92-4999-93a8-fee1999ba4fb"
   },
   "outputs": [],
   "source": [
    "from sklearn.ensemble import AdaBoostClassifier\n",
    "from sklearn.ensemble import RandomForestClassifier\n",
    "\n",
    "RF_clf=RandomForestClassifier(n_estimators=100)\n",
    "RF_clf.fit(X_train, Y_train.ravel())\n"
   ]
  },
  {
   "cell_type": "code",
   "execution_count": null,
   "metadata": {
    "colab": {
     "base_uri": "https://localhost:8080/"
    },
    "executionInfo": {
     "elapsed": 5285,
     "status": "ok",
     "timestamp": 1692113477108,
     "user": {
      "displayName": "Amine Hamouda",
      "userId": "06406683403374065678"
     },
     "user_tz": -60
    },
    "id": "qOOpNQ-Yw3Bt",
    "outputId": "b6e929ef-559a-4fc6-d794-ce5143de476a"
   },
   "outputs": [],
   "source": [
    "print(f' {print_score(RF_clf, X_train, X_test, Y_train.ravel(), Y_test.ravel(), train=True)}')\n",
    "print(f'\\n ---------------------------------------\\n')\n",
    "print(f'{print_score(RF_clf, X_train, X_test, Y_train.ravel(), Y_test.ravel(), train=False)}')\n"
   ]
  },
  {
   "cell_type": "markdown",
   "metadata": {
    "id": "kfTgvgpt0pvB"
   },
   "source": [
    "### C\\ Bagging + Decision Tree ###"
   ]
  },
  {
   "cell_type": "code",
   "execution_count": null,
   "metadata": {
    "colab": {
     "base_uri": "https://localhost:8080/",
     "height": 117
    },
    "executionInfo": {
     "elapsed": 9867,
     "status": "ok",
     "timestamp": 1692113649341,
     "user": {
      "displayName": "Amine Hamouda",
      "userId": "06406683403374065678"
     },
     "user_tz": -60
    },
    "id": "gORMNjEe04dr",
    "outputId": "89495fc8-e191-45dc-c934-56b71c50a222"
   },
   "outputs": [],
   "source": [
    "from sklearn.ensemble import BaggingClassifier\n",
    "\n",
    "bag_clf=BaggingClassifier(estimator=DT_clf, n_estimators=100, bootstrap=True,\n",
    "                          oob_score=False, n_jobs=-1, random_state=42)\n",
    "bag_clf.fit(X_train, Y_train.ravel())\n"
   ]
  },
  {
   "cell_type": "code",
   "execution_count": null,
   "metadata": {
    "colab": {
     "base_uri": "https://localhost:8080/"
    },
    "executionInfo": {
     "elapsed": 60213,
     "status": "ok",
     "timestamp": 1692113725916,
     "user": {
      "displayName": "Amine Hamouda",
      "userId": "06406683403374065678"
     },
     "user_tz": -60
    },
    "id": "FIvP2N4p1RU9",
    "outputId": "d2de457f-db90-4bf1-cf21-202b012f8723"
   },
   "outputs": [],
   "source": [
    "print(f' {print_score(bag_clf, X_train, X_test, Y_train.ravel(), Y_test.ravel(), train=True)}')\n",
    "print(f'\\n ---------------------------------------\\n')\n",
    "print(f'{print_score(bag_clf, X_train, X_test, Y_train.ravel(), Y_test.ravel(), train=False)}')\n"
   ]
  },
  {
   "cell_type": "markdown",
   "metadata": {
    "id": "nLgU6i0Zxo7o"
   },
   "source": [
    "### D \\ AdaBoost + Random Forest: ###"
   ]
  },
  {
   "cell_type": "code",
   "execution_count": null,
   "metadata": {
    "id": "DwPYHv1Hw4uc"
   },
   "outputs": [],
   "source": [
    "Ada_RF=AdaBoostClassifier(RandomForestClassifier(n_estimators=200), n_estimators=100)\n",
    "Ada_RF.fit(X_train, Y_train.ravel())\n"
   ]
  },
  {
   "cell_type": "code",
   "execution_count": null,
   "metadata": {
    "id": "j9CsluQ7xuPz"
   },
   "outputs": [],
   "source": [
    "print(f' {print_score(Ada_RF, X_train, X_test, Y_train.ravel(), Y_test.ravel(), train=True)}')\n",
    "print(f'\\n ---------------------------------------\\n')\n",
    "print(f'{print_score(Ada_RF, X_train, X_test, Y_train.ravel(), Y_test.ravel(), train=False)}')\n"
   ]
  },
  {
   "cell_type": "markdown",
   "metadata": {
    "id": "Rr02AJXY3ki6"
   },
   "source": [
    "### E\\ KNN + Grid Search : ###"
   ]
  },
  {
   "cell_type": "code",
   "execution_count": null,
   "metadata": {
    "colab": {
     "base_uri": "https://localhost:8080/",
     "height": 74
    },
    "executionInfo": {
     "elapsed": 292,
     "status": "ok",
     "timestamp": 1692114489732,
     "user": {
      "displayName": "Amine Hamouda",
      "userId": "06406683403374065678"
     },
     "user_tz": -60
    },
    "id": "hJ6j_Vuy3i_T",
    "outputId": "22676bdf-1b36-4c1b-c29f-e4ab1d1faed0"
   },
   "outputs": [],
   "source": [
    "from sklearn.neighbors import KNeighborsClassifier\n",
    "\n",
    "knn = KNeighborsClassifier(n_neighbors=5,p=2, metric='minkowski')\n",
    "knn.fit(X_train, Y_train)\n"
   ]
  },
  {
   "cell_type": "code",
   "execution_count": null,
   "metadata": {
    "colab": {
     "base_uri": "https://localhost:8080/"
    },
    "executionInfo": {
     "elapsed": 689,
     "status": "ok",
     "timestamp": 1692114517951,
     "user": {
      "displayName": "Amine Hamouda",
      "userId": "06406683403374065678"
     },
     "user_tz": -60
    },
    "id": "xpZyI9w14eUL",
    "outputId": "b3533083-1af9-494e-f8ca-5853bb6f9696"
   },
   "outputs": [],
   "source": [
    "print(f' {print_score(knn, X_train, X_test, Y_train.ravel(), Y_test.ravel(), train=True)}')\n",
    "print(f'\\n ---------------------------------------\\n')\n",
    "print(f'{print_score(knn, X_train, X_test, Y_train.ravel(), Y_test.ravel(), train=False)}')\n"
   ]
  },
  {
   "cell_type": "markdown",
   "metadata": {
    "id": "RJztbP_s4np5"
   },
   "source": [
    "### Grid Search : ###"
   ]
  },
  {
   "cell_type": "code",
   "execution_count": null,
   "metadata": {},
   "outputs": [],
   "source": [
    "from sklearn.model_selection import GridSearchCV\n",
    "\n",
    "knn.get_params()\n"
   ]
  },
  {
   "cell_type": "code",
   "execution_count": null,
   "metadata": {},
   "outputs": [],
   "source": [
    "params = {'n_neighbors': [1, 2, 3, 4, 5,6,7,8,9,10]}\n",
    "grid_search_cv = GridSearchCV(KNeighborsClassifier(),\n",
    "                              params, \n",
    "                              n_jobs=-1,\n",
    "                              verbose=1)\n",
    "grid_search_cv.fit(X_train, Y_train)\n",
    "grid_search_cv.best_estimator_\n"
   ]
  },
  {
   "cell_type": "code",
   "execution_count": null,
   "metadata": {},
   "outputs": [],
   "source": [
    "print(f' {print_score(grid_search_cv, X_train, X_test, Y_train.ravel(), Y_test.ravel(), train=True)}')\n",
    "print(f'\\n ---------------------------------------\\n')\n",
    "print(f'{print_score(grid_search_cv, X_train, X_test, Y_train.ravel(), Y_test.ravel(), train=False)}')\n"
   ]
  },
  {
   "cell_type": "code",
   "execution_count": null,
   "metadata": {},
   "outputs": [],
   "source": []
  }
 ],
 "metadata": {
  "colab": {
   "provenance": []
  },
  "kernelspec": {
   "display_name": "Python 3 (ipykernel)",
   "language": "python",
   "name": "python3"
  },
  "language_info": {
   "codemirror_mode": {
    "name": "ipython",
    "version": 3
   },
   "file_extension": ".py",
   "mimetype": "text/x-python",
   "name": "python",
   "nbconvert_exporter": "python",
   "pygments_lexer": "ipython3",
   "version": "3.9.17"
  }
 },
 "nbformat": 4,
 "nbformat_minor": 4
}
