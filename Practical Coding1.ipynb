{
 "cells": [
  {
   "cell_type": "code",
   "execution_count": null,
   "id": "49ec2ca0-d38f-4ff7-b429-aff6b0e9232e",
   "metadata": {},
   "outputs": [],
   "source": [
    "import tensorflow as tf\n",
    "hello=tf.constant('hello Tensorflow!')\n",
    "tf.print(hello)"
   ]
  },
  {
   "cell_type": "code",
   "execution_count": null,
   "id": "d0ee09c4-29a6-4d74-9f7c-c8fe86175230",
   "metadata": {},
   "outputs": [],
   "source": [
    "x=5\n",
    "y=7\n",
    "print(\"division=\", x/y)\n",
    "print(\"exposé=\", y**x)\n",
    "print(\"floor division (arrondissement)=\", x//y)\n",
    "print(\"remainder y%x=\", y%x)\n",
    "print(type(x))\n",
    "print(type(y))\n",
    "print(int(4.5))\n",
    "print(4.5//1)"
   ]
  },
  {
   "cell_type": "code",
   "execution_count": null,
   "id": "6aea0b17-8805-4582-8860-97fe17478efc",
   "metadata": {},
   "outputs": [],
   "source": [
    "print(\"this is \\nthe real thing\")"
   ]
  },
  {
   "cell_type": "code",
   "execution_count": null,
   "id": "3eb2d890-a9c3-4557-9d6a-08ad931001d2",
   "metadata": {},
   "outputs": [],
   "source": [
    "import math\n",
    "r=float(input('enter r value of the circle'))\n",
    "def Circle(r):\n",
    "    area=math.pi*r**2\n",
    "    circum=2*math.pi*r\n",
    "    return area, circum\n",
    "print(Circle(r))\n",
    "print('the circle area & circum are', round(Circle(r)[0],3),' and', round(Circle(r)[1],3))\n",
    "print(f'the circle area & circum are {Circle(r)[0]:.3f} and {Circle(r)[1]:.3f}')"
   ]
  },
  {
   "cell_type": "code",
   "execution_count": null,
   "id": "f46aa786-2452-43fa-a957-b25d6d09340d",
   "metadata": {},
   "outputs": [],
   "source": [
    "import random\n",
    "freq0=0\n",
    "freq1=0\n",
    "sample=10\n",
    "for roll in range(sample):\n",
    "    face=random.randrange(0,2)\n",
    "    if face==0: freq0+=1\n",
    "    else: freq1+=1\n",
    "print(f'{\"face\":>6}{\"frequency\":>13}{\"Ratio\":>10}')\n",
    "print(f'{0:>4}{freq0:>10}{freq0/sample*100:>15.2f}')\n",
    "print(f'{1:>4}{freq1:>10}{freq1/sample*100:>15.2f}')"
   ]
  },
  {
   "cell_type": "code",
   "execution_count": null,
   "id": "d6cc584f-b4cb-47c6-8ce3-a225e337bec4",
   "metadata": {},
   "outputs": [],
   "source": [
    "random.seed(18102022)\n",
    "for roll in range(6):\n",
    "    print(random.randrange(0,10),end=' ')"
   ]
  },
  {
   "cell_type": "code",
   "execution_count": null,
   "id": "62887a1b-665e-4bb5-b5a6-59c1647510c2",
   "metadata": {},
   "outputs": [],
   "source": [
    "list1=[0,3,6,5]\n",
    "list1+=[11]\n",
    "for i in range(11,14,1):\n",
    "    list1+=[i]\n",
    "list1.extend([39,69])\n",
    "print (list1)\n",
    "fst,sec,ther,foth='WIFI'\n",
    "print(fst,sec,ther,foth)"
   ]
  },
  {
   "cell_type": "code",
   "execution_count": null,
   "id": "9ac2a39b-6d49-483c-8529-c0f60a34e85d",
   "metadata": {},
   "outputs": [],
   "source": [
    "colors=['Red', 'Blue', 'Green', 'White','Black']\n",
    "print(tuple(enumerate(colors)))\n",
    "for index,color in enumerate(colors, 1):\n",
    "    print(index,':',color)\n",
    "    print()\n",
    "    print(f'{index}:{color}')"
   ]
  },
  {
   "cell_type": "code",
   "execution_count": null,
   "id": "072ffc21-8d03-42ac-8db4-e554cfdcb88b",
   "metadata": {},
   "outputs": [],
   "source": [
    "Bar=[22,69,13,24]\n",
    "print(f'index {\"value\":>8}   Bar')\n",
    "for index,value in enumerate(Bar):\n",
    "    print(f'{index:>3}{value:>9}     {\"*\"*value} ')\n",
    "print (Bar[:])\n",
    "print(Bar[::2])\n",
    "del Bar[-1]\n",
    "print(Bar)"
   ]
  },
  {
   "cell_type": "code",
   "execution_count": null,
   "id": "cefa259e-d553-49e5-a855-2fd45024487d",
   "metadata": {},
   "outputs": [],
   "source": [
    "list2=[0,5,8,4,6,7,1,2,3,9,10]\n",
    "list2.sort()\n",
    "print(list2)\n",
    "list_if=[]\n",
    "for i in (list2):\n",
    "    if i%2!=0 : list_if=list2[i]\n",
    "        \n",
    "    print(list_if, end=' ')"
   ]
  },
  {
   "cell_type": "code",
   "execution_count": null,
   "id": "6c9155ae-766c-4d69-a972-5c637fa18368",
   "metadata": {},
   "outputs": [],
   "source": [
    "#Generator expression\n",
    "list_gen=[i**2 for i in range(10) if i%2==0]\n",
    "print(list_gen)\n",
    "list_gen02=[i+4 for i in list_gen]\n",
    "print(list_gen02)\n",
    "print(list(list_gen))"
   ]
  },
  {
   "cell_type": "code",
   "execution_count": null,
   "id": "3c1afeb9-fec6-4179-9740-cfa810cf5199",
   "metadata": {},
   "outputs": [],
   "source": [
    "#array construction\n",
    "a=[[1,2,3,4],[5,6,7,8],[9,10,11,12]]\n",
    "print(a)\n",
    "for row in a:\n",
    "    for column in row: \n",
    "        print(column, end=\" \")\n",
    "    print() #row synthax"
   ]
  },
  {
   "cell_type": "code",
   "execution_count": null,
   "id": "ba2d7cd6-b333-4280-ad4f-1b2cc99ffc6f",
   "metadata": {},
   "outputs": [],
   "source": [
    "#Filer, map\n",
    "list04=list(range(0,20))\n",
    "def mult3(mu): \n",
    "    if mu % 3==0: return mu\n",
    "print(list(filter(mult3, list04)))\n",
    "print(list(map(mult3,list04)))"
   ]
  },
  {
   "cell_type": "code",
   "execution_count": null,
   "id": "7636e7eb-a1ce-4eaa-9951-475b080dc359",
   "metadata": {},
   "outputs": [],
   "source": [
    "#zip\n",
    "players=['Neymar', 'Messi', 'Ronaldo','Lewandovski']; Goals=[8, 22, 18, 25]\n",
    "for stars, pts in zip (players, Goals):\n",
    "    print(f'{stars}: {pts}')"
   ]
  },
  {
   "cell_type": "code",
   "execution_count": null,
   "id": "567c6f03-57ee-4491-bbd0-cf9225a462d1",
   "metadata": {},
   "outputs": [],
   "source": [
    "#Dictionnary\n",
    "countries={'Spanien':'Esp' , 'France':'Fr', 'Angleterre':'Eng', 'Tounes': 'Tn','Italia':'Ita',\n",
    "           'Algérie':'Alg'}\n",
    "for pays, code in countries.items():\n",
    "    print(f'le pays est: {pays} et son code est: {code}')\n",
    "for pays in countries.keys(): print(pays, end=' ')\n",
    "print()\n",
    "for code in countries.values(): print(code, end=' ')\n",
    "print()\n",
    "lcountries=list(countries.items())\n",
    "print(lcountries, lcountries[0])\n",
    "print()\n",
    "\n",
    "for i , (keys, values) in enumerate(countries.items()):\n",
    "    print(i, keys, values)\n",
    "print()\n",
    "print(sorted(countries.values()))\n",
    "print()\n",
    "s_value={k:v for k,v in sorted(countries.items(), key=lambda item:item[1])}\n",
    "print(s_value)\n",
    "print()\n",
    "switch={code: pays for pays,code in sorted(countries.items())}\n",
    "print(switch, type(switch))"
   ]
  },
  {
   "cell_type": "code",
   "execution_count": null,
   "id": "308e9f02-ca38-46c3-880d-91a33722fe18",
   "metadata": {},
   "outputs": [],
   "source": [
    "#word\n",
    "# Victor Hugo, Les Misérables (1862)\n",
    "miserables=\"\"\"Condamné au bagne pour avoir volé un pain, Jean Valjean a purgé sa peine et vient d'être libéré. \n",
    "Il s'arrête dans une auberge.\n",
    "Pendant que le nouveau venu se chauffait, le dos tourné, le digne aubergiste Jacquin Labarre tira un crayon de sa poche,\n",
    "puis il déchira le coin d'un vieux journalqui traînait sur une petite table près de la fenêtre.\n",
    "Sur la marge blanche il écrivit une ligne ou deux, plia sans cacheter et remit ce chiffon de papier à un enfant\n",
    "qui paraissait lui servir tout à la fois de marmiton et de laquais.   \n",
    "L'aubergiste dit un mot à l'oreille du marmiton, et l'enfant partit en courant en direction de la mairie.\n",
    "Le voyageur n'avait rien vu de tout cela.\n",
    "Il demanda encore une fois :\n",
    "- Dîne-t-on bientôt ?\n",
    "– Tout à l'heure, dit l'hôte.\n",
    "L'enfant revint. Il rapportait le papier. L'hôte le déplia avec empressement, comme quelqu'un qui attend une réponse.\n",
    "Il parut lire attentivement, puis hocha la tête, et resta un moment pensif. \n",
    "Enfin il fit un pas vers le voyageur qui semblait plongé dans des réflexions peu sereines.\n",
    "– Monsieur, dit-il, je ne puis vous recevoir.\n",
    "L'homme se dressa à demi sur son séant.\n",
    "– Comment ! Avez-vous peur que je ne paye pas ! Voulez-vous que je paye d'avance ? J'ai de\n",
    "l'argent, vous dis-je.\n",
    "– Ce n'est pas cela.\n",
    "– Quoi donc ?\n",
    "– Vous avez de l'argent...\n",
    "– Oui, dit l'homme.\n",
    "– Et moi, dit l'hôte, je n'ai pas de chambre.\n",
    "L'homme reprit tranquillement : -Mettez-moi à l'écurie.\n",
    "– Je ne puis.\n",
    "– Pourquoi ?\n",
    "– Les chevaux prennent toute la place.\n",
    "– Et bien, repartit l'homme, un coin dans le grenier. Une botte de paille. Nous verrons cela après\n",
    "dîner.\n",
    "– Je ne puis vous donner à dîner.\n",
    "Cette déclaration, faite d'un ton mesuré, mais ferme, parut grave à l'étranger. Il se leva.\n",
    "– Ah bah ! Mais je meurs de faim, moi. J'ai marché dès le soleil levé. J'ai fait douze lieues. Je paye. Je veux manger.\n",
    "– Je n'ai rien, dit l'hôte.\n",
    "L'homme éclata de rire et se tourna vers la cheminée et les fourneaux.\n",
    "– Rien ! Et tout cela ?\n",
    "– Tout cela m'est retenu.\n",
    "– Par qui ?\n",
    "– Par ces messieurs les rouliers.\n",
    "– Combien sont-ils ?\n",
    "– Douze.\n",
    "– Il y a là à manger pour vingt.\n",
    "– Ils ont tout retenu et tout payé d'avance.\n",
    "L'homme se rassit et dit sans hausser la voix :\n",
    "– Je suis à l'auberge, j'ai faim, et je reste.\n",
    "L'hôte alors se pencha à son oreille, et lui dit d'un accent qui le fit tressaillir :\n",
    "– Allez-vous en.\n",
    "Le voyageur était courbé en cet instant et poussait quelques braises dans le feu avec le bout ferré de son bâton, \n",
    "il se retourna vivement, et, comme il ouvrait la bouche pour répliquer, l'hôte le regarda fixement et ajouta toujours\n",
    "à voix basse :\n",
    "- Tenez, assez de paroles comme cela. Voulez-vous que je vous dise votre nom ? Vous vous appelez Jean Valjean. \n",
    "Maintenant voulez-vous que je vous dise qui vous êtes ?\n",
    "En vous voyant entrer, je me suis douté de quelque chose, j'ai envoyé à la mairie, et voici ce qu'on m'a répondu. \n",
    "Savez-vous lire ?\"\"\"\n",
    "m_words=miserables.split()\n",
    "print(m_words)\n",
    "print(len(m_words))\n",
    "print()\n",
    "wordlst={}\n",
    "for word in m_words: \n",
    "    if word in wordlst: wordlst[word]+=1\n",
    "    else: wordlst[word]=1\n",
    "print(wordlst, len(wordlst))\n",
    "print()\n",
    "#sorting descending order of count\n",
    "sort_value={k:v for k,v in sorted(wordlst.items(), key=lambda i:i[1], reverse=True)}\n",
    "print(sort_value)\n",
    "print()\n",
    "print(f'{\"Word\":>6} {\"Count\":>10}')\n",
    "for word_2,count_2 in sort_value.items(): \n",
    "    if count_2>=3: print(f'{word_2:>5} {count_2:>9}')\n",
    "print()\n",
    "\n",
    "from collections import Counter\n",
    "word_count=Counter(m_words)\n",
    "print(word_count)"
   ]
  },
  {
   "cell_type": "code",
   "execution_count": null,
   "id": "9f944931-b4a5-420a-8c08-a42dd23a7177",
   "metadata": {},
   "outputs": [],
   "source": [
    "#Set\n",
    "digits=set(list(range(0,10))+list(range(9,15)))\n",
    "print(digits)\n",
    "print(len(digits))\n",
    "print(9 in digits)\n",
    "print()\n",
    "digits.remove(9)\n",
    "print(f'{digits} , {len(digits)}')\n",
    "digits.update([15,18])\n",
    "print(f'{digits} , {len(digits)}')\n",
    "digits.add(16)\n",
    "digits.update([16,17])\n",
    "print(f'{digits} , {len(digits)}')\n",
    "print()\n",
    "\n",
    "print({1,2,3}<={1,2,3,4,5,6,7,8,9})\n",
    "print({1,2,3}<={1,2,3})\n",
    "print({1,2,3}|{1,2,3,4,5,6,7}) #union\n",
    "print({1,2,3}&{1,2,3,4,5,6,7}) #intersection\n",
    "print({1,2,3}-{1,2,3,4,5,6,7}) #difference\n",
    "print({1,2,3,4,5,6,7}-{1,2,3}) #difference\n",
    "print()\n",
    "\n",
    "odds={}\n",
    "for i in digits:\n",
    "    if i%2==0: odds=i\n",
    "    print(f'{odds}',end=' ')\n",
    "print()\n",
    "odds2={o for o in digits if o%2 == 0}\n",
    "print(f'odds2= {odds2}',end=' ')\n",
    "print()\n",
    "print()\n",
    "for i in enumerate(odds2) :\n",
    "    print(i)\n",
    "print(len(odds2))\n",
    "print(min(odds2) ,max(odds2) ,sum(odds2))\n"
   ]
  }
 ],
 "metadata": {
  "kernelspec": {
   "display_name": "Python 3 (ipykernel)",
   "language": "python",
   "name": "python3"
  },
  "language_info": {
   "codemirror_mode": {
    "name": "ipython",
    "version": 3
   },
   "file_extension": ".py",
   "mimetype": "text/x-python",
   "name": "python",
   "nbconvert_exporter": "python",
   "pygments_lexer": "ipython3",
   "version": "3.9.13"
  }
 },
 "nbformat": 4,
 "nbformat_minor": 5
}
